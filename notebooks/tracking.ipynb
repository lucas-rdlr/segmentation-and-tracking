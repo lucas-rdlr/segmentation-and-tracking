{
 "cells": [
  {
   "cell_type": "code",
   "execution_count": 1,
   "metadata": {},
   "outputs": [],
   "source": [
    "from nets import UNet\n",
    "from downloads import download_data, unzip_data\n",
    "from datasets import Cell_Challenge_Segmentation_Dataset\n",
    "from training import train_UNet, EarlyStopping\n",
    "from segmentation import post_processing\n",
    "from visualization import plot_mini_batch\n",
    "\n",
    "import os\n",
    "\n",
    "import numpy as np\n",
    "import tifffile as tiff\n",
    "import matplotlib.pyplot as plt\n",
    "\n",
    "import torch\n",
    "from torch.utils.data import DataLoader, random_split\n",
    "from sklearn.model_selection import train_test_split\n",
    "import albumentations as alb"
   ]
  },
  {
   "attachments": {},
   "cell_type": "markdown",
   "metadata": {},
   "source": [
    "### Frame alignment"
   ]
  },
  {
   "cell_type": "code",
   "execution_count": 12,
   "metadata": {},
   "outputs": [],
   "source": [
    "import numpy as np\n",
    "\n",
    "def calculate_iou(mask1, mask2):\n",
    "    intersection = np.logical_and(mask1, mask2)\n",
    "    union = np.logical_or(mask1, mask2)\n",
    "    iou = np.sum(intersection) / np.sum(union)\n",
    "    return iou"
   ]
  },
  {
   "cell_type": "code",
   "execution_count": 13,
   "metadata": {},
   "outputs": [],
   "source": [
    "from scipy.optimize import linear_sum_assignment\n",
    "\n",
    "def track_cells(previous_masks, current_masks):\n",
    "    num_previous_cells = len(np.unique(previous_masks)) - 1\n",
    "    num_current_cells = len(np.unique(current_masks)) - 1\n",
    "\n",
    "    cost_matrix = np.zeros((num_previous_cells, num_current_cells))\n",
    "    for i, id_pr in enumerate(np.unique(previous_masks)[1:]):\n",
    "        for j, id_cr in enumerate(np.unique(current_masks)[1:]):\n",
    "            pr_mask = previous_masks * (previous_masks==id_pr)\n",
    "            cr_mask = current_masks * (current_masks==id_cr)\n",
    "            cost_matrix[i, j] = 1 - calculate_iou(pr_mask, cr_mask)\n",
    "\n",
    "    row_ind, col_ind = linear_sum_assignment(cost_matrix)\n",
    "    assignments = [(previous_cell, current_cell) for previous_cell, current_cell in zip(row_ind, col_ind) if cost_matrix[previous_cell,current_cell] != 1]\n",
    "\n",
    "    return assignments"
   ]
  },
  {
   "cell_type": "code",
   "execution_count": 14,
   "metadata": {},
   "outputs": [],
   "source": [
    "frames = last\n",
    "\n",
    "track = np.zeros((len(frames),432,512)).astype(np.uint8)\n",
    "\n",
    "# img = tiff.imread(os.path.join(path, frames[0]))[0].astype(np.uint8)\n",
    "img = frames[0]\n",
    "\n",
    "ids_pr = np.unique(img)[1:] # [1, 4, 7, 10, ...]\n",
    "copy = img.copy()\n",
    "for i, id in enumerate(ids_pr, start=1):\n",
    "    copy[copy==id] = i\n",
    "\n",
    "ids_pr = np.unique(copy)[1:] # [1, 2, 3, 4, ...]\n",
    "track[0] = copy\n",
    "\n",
    "next_id = np.max(ids_pr) + 1 # 11\n",
    "for idx, frame in enumerate(frames[1:], start=1):\n",
    "    # img = tiff.imread(os.path.join(path, frame))[0].astype(np.uint8) # new frame\n",
    "    img = frame\n",
    "\n",
    "    assignments = track_cells(track[idx-1], img)\n",
    "\n",
    "    ids_pr = np.unique(track[idx-1])[1:]\n",
    "    ids_cr = np.unique(img)[1:] # new labels\n",
    "    copy = img.copy() # new frame reassigned\n",
    "    crs = []\n",
    "    for pr, cr in assignments:\n",
    "        copy[img==ids_cr[cr]] = ids_pr[pr]\n",
    "        crs.append(cr)\n",
    "    \n",
    "    if len(ids_cr) > len(ids_pr):\n",
    "        # ids_cr = np.arange(1,next_id+1)\n",
    "        for out_idx in ids_cr:\n",
    "            if out_idx not in ids_cr[crs]:\n",
    "                copy[img==out_idx] = next_id\n",
    "                next_id += 1\n",
    "    \n",
    "    track[idx] = copy"
   ]
  },
  {
   "attachments": {},
   "cell_type": "markdown",
   "metadata": {},
   "source": [
    "### Centroid tracking"
   ]
  },
  {
   "cell_type": "code",
   "execution_count": 32,
   "metadata": {},
   "outputs": [],
   "source": [
    "import cv2\n",
    "import numpy as np\n",
    "\n",
    "# Define a function to compute the centroid of a binary mask\n",
    "def compute_centroid(mask):\n",
    "    moments = cv2.moments(mask)\n",
    "    centroid_x = int(moments[\"m10\"] / moments[\"m00\"])\n",
    "    centroid_y = int(moments[\"m01\"] / moments[\"m00\"])\n",
    "    return centroid_x, centroid_y"
   ]
  },
  {
   "cell_type": "code",
   "execution_count": 33,
   "metadata": {},
   "outputs": [],
   "source": [
    "# Perform centroid-based tracking\n",
    "num_frames = len(track)\n",
    "frames = []\n",
    "\n",
    "ids_max = [np.max(np.unique(i)) for i in track]\n",
    "num_points = max(ids_max)\n",
    "\n",
    "x_coords = np.zeros((num_frames, num_points))\n",
    "y_coords = np.zeros((num_frames, num_points))\n",
    "\n",
    "for frame_idx in range(num_frames):\n",
    "    current_frame = track[frame_idx]\n",
    "    ids = np.unique(current_frame)[1:]\n",
    "    num_cells = len(ids)\n",
    "\n",
    "    # Iterate over each cell in the current frame\n",
    "    for cell_idx, cell_id in enumerate(ids):\n",
    "        # Create a binary mask for the current cell\n",
    "        cell_mask = np.uint8(current_frame == cell_id)\n",
    "\n",
    "        # Compute the centroid of the cell\n",
    "        x_coord, y_coord = compute_centroid(cell_mask)\n",
    "\n",
    "        x_coords[frame_idx, cell_id-1] = x_coord\n",
    "        y_coords[frame_idx, cell_id-1] = y_coord"
   ]
  },
  {
   "attachments": {},
   "cell_type": "markdown",
   "metadata": {},
   "source": [
    "### Create Jpeg and videos from tracked arrays"
   ]
  },
  {
   "cell_type": "code",
   "execution_count": 75,
   "metadata": {},
   "outputs": [],
   "source": [
    "from PIL import Image"
   ]
  },
  {
   "cell_type": "code",
   "execution_count": 214,
   "metadata": {},
   "outputs": [],
   "source": [
    "colors = np.random.randint(0, 255, size=(30, 3), dtype=np.uint8)\n",
    "for idx, frame in enumerate(track):\n",
    "    ids = np.unique(frame)[1:]\n",
    "    num = len(ids)\n",
    "    im1 = np.zeros((432,512)).astype(np.uint8)\n",
    "    im2 = np.zeros((432,512)).astype(np.uint8)\n",
    "    im3 = np.zeros((432,512)).astype(np.uint8)\n",
    "    for i, id in enumerate(ids):\n",
    "        im1[frame==id], im2[frame==id], im3[frame==id] = colors[id-1]\n",
    "\n",
    "    im = np.zeros((432,512,3)).astype(np.uint8)\n",
    "    im[:,:,0], im[:,:,1], im[:,:,2] = im1, im2, im3\n",
    "\n",
    "    img = Image.fromarray(im, 'RGB')\n",
    "    img.save(f'content/Segmentation/challenge_data/Fluo-N3DH-CHO/01_LB/{idx: 04d}.jpeg')"
   ]
  },
  {
   "cell_type": "code",
   "execution_count": 116,
   "metadata": {},
   "outputs": [],
   "source": [
    "from visualization import create_video\n",
    "input_path = \"content/Segmentation/challenge_data/Fluo-N3DH-CHO/01_LB\"\n",
    "output_path = \"content/Segmentation/challenge_data/Fluo-N3DH-CHO/videos/01_LB_video.mp4\"\n",
    "fps = 10\n",
    "create_video(input_path, output_path, fps)"
   ]
  },
  {
   "cell_type": "code",
   "execution_count": 117,
   "metadata": {},
   "outputs": [],
   "source": [
    "input_path = \"content/Segmentation/challenge_data/Fluo-N3DH-CHO/01\"\n",
    "output_path = \"content/Segmentation/challenge_data/Fluo-N3DH-CHO/videos/01_video.mp4\"\n",
    "fps = 10\n",
    "create_video(input_path, output_path, fps)"
   ]
  },
  {
   "attachments": {},
   "cell_type": "markdown",
   "metadata": {},
   "source": [
    "### Video of centroid tracking"
   ]
  },
  {
   "cell_type": "code",
   "execution_count": 208,
   "metadata": {},
   "outputs": [],
   "source": [
    "import cv2\n",
    "import numpy as np\n",
    "from PIL import Image\n",
    "\n",
    "def create_trajectory_video(centroids, frame_shape):\n",
    "    num_frames = len(centroids)\n",
    "    num_cells = len(centroids[0])\n",
    "    colors = [tuple([np.random.randint(255),np.random.randint(255),np.random.randint(255)]) for i in range(num_cells)]\n",
    "    # Iterate over each frame and draw the cell trajectories\n",
    "    for frame_idx in range(num_frames):\n",
    "        frame = np.zeros(frame_shape, dtype=np.uint8)  # Create an empty frame\n",
    "\n",
    "        for cr_frame_idx, cr_frame in enumerate(centroids[:frame_idx]):\n",
    "\n",
    "            # Draw the trajectories on the frame\n",
    "            for cell_idx, centroid in enumerate(cr_frame):\n",
    "                # Draw a circle at the centroid position\n",
    "                if centroid != (0, 0):\n",
    "                    cv2.circle(img=frame, center=centroid, radius=3, color=colors[cell_idx], thickness=-1)\n",
    "                \n",
    "                    if centroids[cr_frame_idx-1][cell_idx] != (0, 0) and cr_frame_idx > 0:\n",
    "                        cv2.line(img=frame, pt1=centroids[cr_frame_idx-1][cell_idx], pt2=centroid, color=colors[cell_idx], thickness=3) \n",
    "\n",
    "        for cell_idx, centroid in enumerate(centroids[frame_idx]):\n",
    "            # Draw a circle at the centroid position\n",
    "            if centroid != (0, 0):\n",
    "                cv2.circle(img=frame, center=centroid, radius=3, color=colors[cell_idx], thickness=-1)\n",
    "                cv2.putText(img=frame, text=f\"{cell_idx}\", org=centroid, fontFace=3, fontScale=0.5, color=(255,255,255))\n",
    "\n",
    "        img = Image.fromarray(frame, 'RGB')\n",
    "        img.save(f'pruebas/{frame_idx: 04d}.jpeg')\n",
    "\n",
    "    return"
   ]
  },
  {
   "cell_type": "code",
   "execution_count": 209,
   "metadata": {},
   "outputs": [],
   "source": [
    "# Example usage\n",
    "coordinates = [[(int(i),int(j)) for i,j in zip(k, l)] for k,l in zip(x_coords, y_coords)]\n",
    "frame_shape = (432, 512, 3)\n",
    "\n",
    "create_trajectory_video(coordinates, frame_shape)"
   ]
  },
  {
   "cell_type": "code",
   "execution_count": 210,
   "metadata": {},
   "outputs": [],
   "source": [
    "from visualization import create_video"
   ]
  },
  {
   "cell_type": "code",
   "execution_count": 211,
   "metadata": {},
   "outputs": [],
   "source": [
    "create_video(\"pruebas\", \"pruebas/video.mp4\", 10)"
   ]
  },
  {
   "attachments": {},
   "cell_type": "markdown",
   "metadata": {},
   "source": [
    "### Trajectory plots"
   ]
  },
  {
   "cell_type": "code",
   "execution_count": 53,
   "metadata": {},
   "outputs": [
    {
     "data": {
      "application/vnd.plotly.v1+json": {
       "config": {
        "plotlyServerURL": "https://plot.ly"
       },
       "data": [
        {
         "marker": {
          "color": [
           367,
           175,
           54,
           372,
           330,
           469,
           null,
           null,
           null,
           null,
           null,
           null,
           null,
           null,
           null,
           null,
           null,
           null,
           null,
           null,
           null,
           null,
           null,
           null,
           null,
           null,
           null,
           null,
           null,
           null
          ],
          "size": 8
         },
         "mode": "markers",
         "showlegend": false,
         "type": "scatter",
         "x": [
          367,
          175,
          54,
          372,
          330,
          469,
          null,
          null,
          null,
          null,
          null,
          null,
          null,
          null,
          null,
          null,
          null,
          null,
          null,
          null,
          null,
          null,
          null,
          null,
          null,
          null,
          null,
          null,
          null,
          null
         ],
         "y": [
          50,
          115,
          163,
          179,
          266,
          385,
          null,
          null,
          null,
          null,
          null,
          null,
          null,
          null,
          null,
          null,
          null,
          null,
          null,
          null,
          null,
          null,
          null,
          null,
          null,
          null,
          null,
          null,
          null,
          null
         ]
        }
       ],
       "frames": [
        {
         "data": [
          {
           "type": "scatter",
           "x": [
            370,
            174,
            53,
            368,
            329,
            449,
            210,
            null,
            null,
            null,
            null,
            null,
            null,
            null,
            null,
            null,
            null,
            null,
            null,
            null,
            null,
            null,
            null,
            null,
            null,
            null,
            null,
            null,
            null,
            null
           ],
           "y": [
            47,
            125,
            156,
            181,
            267,
            385,
            52,
            null,
            null,
            null,
            null,
            null,
            null,
            null,
            null,
            null,
            null,
            null,
            null,
            null,
            null,
            null,
            null,
            null,
            null,
            null,
            null,
            null,
            null,
            null
           ]
          }
         ]
        },
        {
         "data": [
          {
           "type": "scatter",
           "x": [
            370,
            169,
            53,
            368,
            333,
            442,
            203,
            null,
            null,
            null,
            null,
            null,
            null,
            null,
            null,
            null,
            null,
            null,
            null,
            null,
            null,
            null,
            null,
            null,
            null,
            null,
            null,
            null,
            null,
            null
           ],
           "y": [
            47,
            132,
            150,
            182,
            270,
            388,
            58,
            null,
            null,
            null,
            null,
            null,
            null,
            null,
            null,
            null,
            null,
            null,
            null,
            null,
            null,
            null,
            null,
            null,
            null,
            null,
            null,
            null,
            null,
            null
           ]
          }
         ]
        },
        {
         "data": [
          {
           "type": "scatter",
           "x": [
            375,
            170,
            53,
            372,
            332,
            null,
            210,
            null,
            null,
            null,
            null,
            null,
            null,
            null,
            null,
            null,
            null,
            null,
            null,
            null,
            null,
            null,
            null,
            null,
            null,
            null,
            null,
            null,
            null,
            null
           ],
           "y": [
            45,
            132,
            172,
            180,
            270,
            null,
            53,
            null,
            null,
            null,
            null,
            null,
            null,
            null,
            null,
            null,
            null,
            null,
            null,
            null,
            null,
            null,
            null,
            null,
            null,
            null,
            null,
            null,
            null,
            null
           ]
          }
         ]
        },
        {
         "data": [
          {
           "type": "scatter",
           "x": [
            373,
            163,
            56,
            371,
            325,
            null,
            205,
            426,
            null,
            null,
            null,
            null,
            null,
            null,
            null,
            null,
            null,
            null,
            null,
            null,
            null,
            null,
            null,
            null,
            null,
            null,
            null,
            null,
            null,
            null
           ],
           "y": [
            40,
            133,
            161,
            180,
            272,
            null,
            44,
            411,
            null,
            null,
            null,
            null,
            null,
            null,
            null,
            null,
            null,
            null,
            null,
            null,
            null,
            null,
            null,
            null,
            null,
            null,
            null,
            null,
            null,
            null
           ]
          }
         ]
        },
        {
         "data": [
          {
           "type": "scatter",
           "x": [
            370,
            166,
            56,
            371,
            329,
            null,
            211,
            378,
            null,
            null,
            null,
            null,
            null,
            null,
            null,
            null,
            null,
            null,
            null,
            null,
            null,
            null,
            null,
            null,
            null,
            null,
            null,
            null,
            null,
            null
           ],
           "y": [
            35,
            130,
            149,
            181,
            273,
            null,
            54,
            388,
            null,
            null,
            null,
            null,
            null,
            null,
            null,
            null,
            null,
            null,
            null,
            null,
            null,
            null,
            null,
            null,
            null,
            null,
            null,
            null,
            null,
            null
           ]
          }
         ]
        },
        {
         "data": [
          {
           "type": "scatter",
           "x": [
            373,
            171,
            61,
            374,
            330,
            null,
            215,
            380,
            null,
            null,
            null,
            null,
            null,
            null,
            null,
            null,
            null,
            null,
            null,
            null,
            null,
            null,
            null,
            null,
            null,
            null,
            null,
            null,
            null,
            null
           ],
           "y": [
            37,
            125,
            148,
            181,
            274,
            null,
            52,
            379,
            null,
            null,
            null,
            null,
            null,
            null,
            null,
            null,
            null,
            null,
            null,
            null,
            null,
            null,
            null,
            null,
            null,
            null,
            null,
            null,
            null,
            null
           ]
          }
         ]
        },
        {
         "data": [
          {
           "type": "scatter",
           "x": [
            373,
            173,
            64,
            372,
            332,
            null,
            213,
            400,
            null,
            null,
            null,
            null,
            null,
            null,
            null,
            null,
            null,
            null,
            null,
            null,
            null,
            null,
            null,
            null,
            null,
            null,
            null,
            null,
            null,
            null
           ],
           "y": [
            38,
            127,
            130,
            175,
            274,
            null,
            48,
            385,
            null,
            null,
            null,
            null,
            null,
            null,
            null,
            null,
            null,
            null,
            null,
            null,
            null,
            null,
            null,
            null,
            null,
            null,
            null,
            null,
            null,
            null
           ]
          }
         ]
        },
        {
         "data": [
          {
           "type": "scatter",
           "x": [
            378,
            169,
            66,
            371,
            330,
            null,
            212,
            398,
            null,
            null,
            null,
            null,
            null,
            null,
            null,
            null,
            null,
            null,
            null,
            null,
            null,
            null,
            null,
            null,
            null,
            null,
            null,
            null,
            null,
            null
           ],
           "y": [
            38,
            131,
            158,
            176,
            274,
            null,
            51,
            384,
            null,
            null,
            null,
            null,
            null,
            null,
            null,
            null,
            null,
            null,
            null,
            null,
            null,
            null,
            null,
            null,
            null,
            null,
            null,
            null,
            null,
            null
           ]
          }
         ]
        },
        {
         "data": [
          {
           "type": "scatter",
           "x": [
            380,
            174,
            48,
            371,
            339,
            null,
            212,
            386,
            null,
            null,
            null,
            null,
            null,
            null,
            null,
            null,
            null,
            null,
            null,
            null,
            null,
            null,
            null,
            null,
            null,
            null,
            null,
            null,
            null,
            null
           ],
           "y": [
            36,
            130,
            154,
            174,
            273,
            null,
            47,
            377,
            null,
            null,
            null,
            null,
            null,
            null,
            null,
            null,
            null,
            null,
            null,
            null,
            null,
            null,
            null,
            null,
            null,
            null,
            null,
            null,
            null,
            null
           ]
          }
         ]
        },
        {
         "data": [
          {
           "type": "scatter",
           "x": [
            378,
            170,
            64,
            null,
            339,
            72,
            212,
            404,
            null,
            null,
            null,
            null,
            null,
            null,
            null,
            null,
            null,
            null,
            null,
            null,
            null,
            null,
            null,
            null,
            null,
            null,
            null,
            null,
            null,
            null
           ],
           "y": [
            34,
            129,
            105,
            null,
            273,
            207,
            46,
            375,
            null,
            null,
            null,
            null,
            null,
            null,
            null,
            null,
            null,
            null,
            null,
            null,
            null,
            null,
            null,
            null,
            null,
            null,
            null,
            null,
            null,
            null
           ]
          }
         ]
        },
        {
         "data": [
          {
           "type": "scatter",
           "x": [
            null,
            169,
            59,
            null,
            335,
            63,
            216,
            386,
            null,
            null,
            null,
            null,
            175,
            null,
            null,
            null,
            null,
            null,
            null,
            null,
            null,
            null,
            null,
            null,
            null,
            null,
            null,
            null,
            null,
            null
           ],
           "y": [
            null,
            131,
            77,
            null,
            271,
            196,
            47,
            377,
            null,
            null,
            null,
            null,
            403,
            null,
            null,
            null,
            null,
            null,
            null,
            null,
            null,
            null,
            null,
            null,
            null,
            null,
            null,
            null,
            null,
            null
           ]
          }
         ]
        },
        {
         "data": [
          {
           "type": "scatter",
           "x": [
            null,
            172,
            57,
            null,
            334,
            55,
            217,
            390,
            354,
            323,
            null,
            null,
            199,
            null,
            null,
            null,
            null,
            null,
            null,
            null,
            null,
            null,
            null,
            null,
            null,
            null,
            null,
            null,
            null,
            null
           ],
           "y": [
            null,
            125,
            76,
            null,
            269,
            213,
            42,
            378,
            49,
            169,
            null,
            null,
            415,
            null,
            null,
            null,
            null,
            null,
            null,
            null,
            null,
            null,
            null,
            null,
            null,
            null,
            null,
            null,
            null,
            null
           ]
          }
         ]
        },
        {
         "data": [
          {
           "type": "scatter",
           "x": [
            null,
            169,
            57,
            null,
            326,
            53,
            216,
            396,
            330,
            320,
            441,
            417,
            216,
            null,
            null,
            null,
            null,
            null,
            null,
            null,
            null,
            null,
            null,
            null,
            null,
            null,
            null,
            null,
            null,
            null
           ],
           "y": [
            null,
            136,
            68,
            null,
            264,
            228,
            45,
            374,
            54,
            164,
            79,
            160,
            400,
            null,
            null,
            null,
            null,
            null,
            null,
            null,
            null,
            null,
            null,
            null,
            null,
            null,
            null,
            null,
            null,
            null
           ]
          }
         ]
        },
        {
         "data": [
          {
           "type": "scatter",
           "x": [
            null,
            171,
            53,
            null,
            329,
            51,
            219,
            395,
            322,
            317,
            443,
            417,
            204,
            null,
            null,
            null,
            null,
            null,
            null,
            null,
            null,
            null,
            null,
            null,
            null,
            null,
            null,
            null,
            null,
            null
           ],
           "y": [
            null,
            129,
            73,
            null,
            261,
            228,
            37,
            375,
            48,
            165,
            72,
            156,
            405,
            null,
            null,
            null,
            null,
            null,
            null,
            null,
            null,
            null,
            null,
            null,
            null,
            null,
            null,
            null,
            null,
            null
           ]
          }
         ]
        },
        {
         "data": [
          {
           "type": "scatter",
           "x": [
            null,
            174,
            53,
            null,
            326,
            51,
            220,
            387,
            317,
            324,
            455,
            417,
            219,
            null,
            null,
            null,
            null,
            null,
            null,
            null,
            null,
            null,
            null,
            null,
            null,
            null,
            null,
            null,
            null,
            null
           ],
           "y": [
            null,
            126,
            76,
            null,
            258,
            228,
            36,
            373,
            47,
            165,
            73,
            156,
            400,
            null,
            null,
            null,
            null,
            null,
            null,
            null,
            null,
            null,
            null,
            null,
            null,
            null,
            null,
            null,
            null,
            null
           ]
          }
         ]
        },
        {
         "data": [
          {
           "type": "scatter",
           "x": [
            null,
            172,
            50,
            null,
            316,
            50,
            217,
            392,
            310,
            319,
            467,
            427,
            194,
            null,
            null,
            null,
            null,
            null,
            null,
            null,
            null,
            null,
            null,
            null,
            null,
            null,
            null,
            null,
            null,
            null
           ],
           "y": [
            null,
            132,
            70,
            null,
            250,
            227,
            36,
            369,
            44,
            167,
            76,
            156,
            405,
            null,
            null,
            null,
            null,
            null,
            null,
            null,
            null,
            null,
            null,
            null,
            null,
            null,
            null,
            null,
            null,
            null
           ]
          }
         ]
        },
        {
         "data": [
          {
           "type": "scatter",
           "x": [
            null,
            179,
            55,
            null,
            318,
            54,
            222,
            389,
            316,
            324,
            475,
            432,
            224,
            null,
            null,
            null,
            null,
            null,
            null,
            null,
            null,
            null,
            null,
            null,
            null,
            null,
            null,
            null,
            null,
            null
           ],
           "y": [
            null,
            142,
            66,
            null,
            241,
            220,
            33,
            366,
            45,
            167,
            78,
            155,
            402,
            null,
            null,
            null,
            null,
            null,
            null,
            null,
            null,
            null,
            null,
            null,
            null,
            null,
            null,
            null,
            null,
            null
           ]
          }
         ]
        },
        {
         "data": [
          {
           "type": "scatter",
           "x": [
            null,
            176,
            49,
            null,
            315,
            46,
            220,
            385,
            311,
            null,
            474,
            428,
            215,
            null,
            null,
            null,
            null,
            null,
            null,
            null,
            null,
            null,
            null,
            null,
            null,
            null,
            null,
            null,
            null,
            null
           ],
           "y": [
            null,
            141,
            70,
            null,
            220,
            218,
            32,
            364,
            42,
            null,
            72,
            156,
            398,
            null,
            null,
            null,
            null,
            null,
            null,
            null,
            null,
            null,
            null,
            null,
            null,
            null,
            null,
            null,
            null,
            null
           ]
          }
         ]
        },
        {
         "data": [
          {
           "type": "scatter",
           "x": [
            null,
            183,
            60,
            null,
            317,
            47,
            236,
            385,
            315,
            null,
            483,
            438,
            271,
            null,
            null,
            null,
            null,
            null,
            null,
            null,
            null,
            null,
            null,
            null,
            null,
            null,
            null,
            null,
            null,
            null
           ],
           "y": [
            null,
            140,
            64,
            null,
            243,
            220,
            28,
            354,
            43,
            null,
            78,
            156,
            294,
            null,
            null,
            null,
            null,
            null,
            null,
            null,
            null,
            null,
            null,
            null,
            null,
            null,
            null,
            null,
            null,
            null
           ]
          }
         ]
        },
        {
         "data": [
          {
           "type": "scatter",
           "x": [
            null,
            176,
            53,
            null,
            309,
            38,
            222,
            379,
            311,
            null,
            477,
            430,
            329,
            213,
            null,
            null,
            null,
            null,
            null,
            null,
            null,
            null,
            null,
            null,
            null,
            null,
            null,
            null,
            null,
            null
           ],
           "y": [
            null,
            134,
            61,
            null,
            241,
            216,
            30,
            353,
            52,
            null,
            74,
            154,
            169,
            389,
            null,
            null,
            null,
            null,
            null,
            null,
            null,
            null,
            null,
            null,
            null,
            null,
            null,
            null,
            null,
            null
           ]
          }
         ]
        },
        {
         "data": [
          {
           "type": "scatter",
           "x": [
            null,
            176,
            60,
            null,
            319,
            43,
            227,
            377,
            326,
            null,
            483,
            434,
            null,
            217,
            null,
            null,
            null,
            null,
            null,
            null,
            null,
            null,
            null,
            null,
            null,
            null,
            null,
            null,
            null,
            null
           ],
           "y": [
            null,
            139,
            65,
            null,
            218,
            208,
            31,
            350,
            53,
            null,
            83,
            156,
            null,
            379,
            null,
            null,
            null,
            null,
            null,
            null,
            null,
            null,
            null,
            null,
            null,
            null,
            null,
            null,
            null,
            null
           ]
          }
         ]
        },
        {
         "data": [
          {
           "type": "scatter",
           "x": [
            null,
            171,
            60,
            null,
            308,
            39,
            226,
            374,
            333,
            null,
            484,
            433,
            null,
            216,
            323,
            null,
            null,
            null,
            null,
            null,
            null,
            null,
            null,
            null,
            null,
            null,
            null,
            null,
            null,
            null
           ],
           "y": [
            null,
            149,
            62,
            null,
            241,
            205,
            32,
            349,
            56,
            null,
            90,
            156,
            null,
            378,
            167,
            null,
            null,
            null,
            null,
            null,
            null,
            null,
            null,
            null,
            null,
            null,
            null,
            null,
            null,
            null
           ]
          }
         ]
        },
        {
         "data": [
          {
           "type": "scatter",
           "x": [
            null,
            169,
            66,
            null,
            311,
            34,
            221,
            374,
            342,
            null,
            482,
            427,
            null,
            218,
            null,
            null,
            null,
            null,
            null,
            null,
            null,
            null,
            null,
            null,
            null,
            null,
            null,
            null,
            null,
            null
           ],
           "y": [
            null,
            154,
            70,
            null,
            221,
            215,
            34,
            344,
            50,
            null,
            90,
            151,
            null,
            378,
            null,
            null,
            null,
            null,
            null,
            null,
            null,
            null,
            null,
            null,
            null,
            null,
            null,
            null,
            null,
            null
           ]
          }
         ]
        },
        {
         "data": [
          {
           "type": "scatter",
           "x": [
            null,
            171,
            63,
            null,
            309,
            31,
            224,
            370,
            344,
            null,
            483,
            435,
            null,
            217,
            null,
            316,
            null,
            null,
            null,
            null,
            null,
            null,
            null,
            null,
            null,
            null,
            null,
            null,
            null,
            null
           ],
           "y": [
            null,
            157,
            64,
            null,
            250,
            216,
            33,
            348,
            51,
            null,
            93,
            156,
            null,
            377,
            null,
            173,
            null,
            null,
            null,
            null,
            null,
            null,
            null,
            null,
            null,
            null,
            null,
            null,
            null,
            null
           ]
          }
         ]
        },
        {
         "data": [
          {
           "type": "scatter",
           "x": [
            null,
            170,
            61,
            null,
            303,
            29,
            219,
            369,
            347,
            null,
            483,
            434,
            null,
            215,
            null,
            315,
            null,
            null,
            null,
            null,
            null,
            null,
            null,
            null,
            null,
            null,
            null,
            null,
            null,
            null
           ],
           "y": [
            null,
            155,
            64,
            null,
            253,
            215,
            35,
            347,
            52,
            null,
            90,
            157,
            null,
            376,
            null,
            170,
            null,
            null,
            null,
            null,
            null,
            null,
            null,
            null,
            null,
            null,
            null,
            null,
            null,
            null
           ]
          }
         ]
        },
        {
         "data": [
          {
           "type": "scatter",
           "x": [
            null,
            170,
            66,
            null,
            299,
            27,
            220,
            373,
            355,
            null,
            481,
            435,
            null,
            215,
            null,
            302,
            null,
            null,
            null,
            null,
            null,
            null,
            null,
            null,
            null,
            null,
            null,
            null,
            null,
            null
           ],
           "y": [
            null,
            160,
            71,
            null,
            263,
            213,
            34,
            357,
            53,
            null,
            96,
            160,
            null,
            382,
            null,
            172,
            null,
            null,
            null,
            null,
            null,
            null,
            null,
            null,
            null,
            null,
            null,
            null,
            null,
            null
           ]
          }
         ]
        },
        {
         "data": [
          {
           "type": "scatter",
           "x": [
            null,
            170,
            66,
            null,
            294,
            24,
            218,
            375,
            362,
            null,
            483,
            432,
            null,
            219,
            null,
            308,
            null,
            null,
            null,
            null,
            null,
            null,
            null,
            null,
            null,
            null,
            null,
            null,
            null,
            null
           ],
           "y": [
            null,
            160,
            60,
            null,
            264,
            206,
            35,
            359,
            53,
            null,
            98,
            157,
            null,
            379,
            null,
            171,
            null,
            null,
            null,
            null,
            null,
            null,
            null,
            null,
            null,
            null,
            null,
            null,
            null,
            null
           ]
          }
         ]
        },
        {
         "data": [
          {
           "type": "scatter",
           "x": [
            null,
            167,
            68,
            null,
            297,
            null,
            216,
            378,
            369,
            null,
            483,
            435,
            null,
            225,
            null,
            302,
            null,
            null,
            null,
            null,
            null,
            null,
            null,
            null,
            null,
            null,
            null,
            null,
            null,
            null
           ],
           "y": [
            null,
            161,
            66,
            null,
            266,
            null,
            35,
            371,
            53,
            null,
            98,
            156,
            null,
            376,
            null,
            171,
            null,
            null,
            null,
            null,
            null,
            null,
            null,
            null,
            null,
            null,
            null,
            null,
            null,
            null
           ]
          }
         ]
        },
        {
         "data": [
          {
           "type": "scatter",
           "x": [
            null,
            168,
            75,
            null,
            299,
            null,
            219,
            381,
            369,
            null,
            485,
            437,
            null,
            234,
            null,
            302,
            null,
            null,
            null,
            null,
            null,
            null,
            null,
            null,
            null,
            null,
            null,
            null,
            null,
            null
           ],
           "y": [
            null,
            161,
            55,
            null,
            276,
            null,
            40,
            374,
            53,
            null,
            99,
            155,
            null,
            376,
            null,
            177,
            null,
            null,
            null,
            null,
            null,
            null,
            null,
            null,
            null,
            null,
            null,
            null,
            null,
            null
           ]
          }
         ]
        },
        {
         "data": [
          {
           "type": "scatter",
           "x": [
            null,
            166,
            75,
            null,
            292,
            null,
            224,
            382,
            376,
            null,
            null,
            440,
            null,
            245,
            null,
            305,
            null,
            null,
            null,
            null,
            null,
            null,
            null,
            null,
            null,
            null,
            null,
            null,
            null,
            null
           ],
           "y": [
            null,
            161,
            50,
            null,
            285,
            null,
            41,
            379,
            55,
            null,
            null,
            154,
            null,
            379,
            null,
            183,
            null,
            null,
            null,
            null,
            null,
            null,
            null,
            null,
            null,
            null,
            null,
            null,
            null,
            null
           ]
          }
         ]
        },
        {
         "data": [
          {
           "type": "scatter",
           "x": [
            null,
            158,
            67,
            null,
            292,
            null,
            216,
            376,
            379,
            null,
            null,
            434,
            null,
            247,
            null,
            296,
            486,
            null,
            null,
            null,
            null,
            null,
            null,
            null,
            null,
            null,
            null,
            null,
            null,
            null
           ],
           "y": [
            null,
            165,
            43,
            null,
            283,
            null,
            44,
            383,
            54,
            null,
            null,
            153,
            null,
            378,
            null,
            183,
            105,
            null,
            null,
            null,
            null,
            null,
            null,
            null,
            null,
            null,
            null,
            null,
            null,
            null
           ]
          }
         ]
        },
        {
         "data": [
          {
           "type": "scatter",
           "x": [
            null,
            163,
            74,
            null,
            296,
            null,
            223,
            384,
            385,
            null,
            null,
            438,
            null,
            254,
            null,
            303,
            null,
            null,
            null,
            null,
            null,
            null,
            null,
            null,
            null,
            null,
            null,
            null,
            null,
            null
           ],
           "y": [
            null,
            164,
            42,
            null,
            283,
            null,
            46,
            386,
            52,
            null,
            null,
            158,
            null,
            379,
            null,
            184,
            null,
            null,
            null,
            null,
            null,
            null,
            null,
            null,
            null,
            null,
            null,
            null,
            null,
            null
           ]
          }
         ]
        },
        {
         "data": [
          {
           "type": "scatter",
           "x": [
            null,
            163,
            77,
            null,
            296,
            null,
            225,
            390,
            390,
            null,
            null,
            439,
            null,
            259,
            null,
            304,
            null,
            24,
            null,
            null,
            null,
            null,
            null,
            null,
            null,
            null,
            null,
            null,
            null,
            null
           ],
           "y": [
            null,
            167,
            37,
            null,
            288,
            null,
            46,
            387,
            49,
            null,
            null,
            158,
            null,
            381,
            null,
            181,
            null,
            200,
            null,
            null,
            null,
            null,
            null,
            null,
            null,
            null,
            null,
            null,
            null,
            null
           ]
          }
         ]
        },
        {
         "data": [
          {
           "type": "scatter",
           "x": [
            null,
            165,
            71,
            null,
            287,
            null,
            230,
            394,
            397,
            null,
            null,
            437,
            null,
            263,
            null,
            301,
            null,
            24,
            null,
            null,
            null,
            null,
            null,
            null,
            null,
            null,
            null,
            null,
            null,
            null
           ],
           "y": [
            null,
            170,
            34,
            null,
            291,
            null,
            50,
            391,
            46,
            null,
            null,
            156,
            null,
            381,
            null,
            185,
            null,
            203,
            null,
            null,
            null,
            null,
            null,
            null,
            null,
            null,
            null,
            null,
            null,
            null
           ]
          }
         ]
        },
        {
         "data": [
          {
           "type": "scatter",
           "x": [
            null,
            169,
            70,
            null,
            283,
            null,
            230,
            405,
            397,
            null,
            null,
            435,
            null,
            261,
            null,
            295,
            null,
            24,
            474,
            null,
            null,
            null,
            null,
            null,
            null,
            null,
            null,
            null,
            null,
            null
           ],
           "y": [
            null,
            174,
            32,
            null,
            294,
            null,
            52,
            392,
            47,
            null,
            null,
            158,
            null,
            383,
            null,
            186,
            null,
            204,
            294,
            null,
            null,
            null,
            null,
            null,
            null,
            null,
            null,
            null,
            null,
            null
           ]
          }
         ]
        },
        {
         "data": [
          {
           "type": "scatter",
           "x": [
            null,
            171,
            72,
            null,
            278,
            null,
            234,
            411,
            406,
            null,
            null,
            436,
            null,
            null,
            null,
            304,
            null,
            24,
            484,
            null,
            null,
            null,
            null,
            null,
            null,
            null,
            null,
            null,
            null,
            null
           ],
           "y": [
            null,
            178,
            30,
            null,
            326,
            null,
            55,
            394,
            46,
            null,
            null,
            160,
            null,
            null,
            null,
            182,
            null,
            210,
            285,
            null,
            null,
            null,
            null,
            null,
            null,
            null,
            null,
            null,
            null,
            null
           ]
          }
         ]
        },
        {
         "data": [
          {
           "type": "scatter",
           "x": [
            null,
            169,
            75,
            null,
            270,
            null,
            241,
            415,
            409,
            null,
            null,
            439,
            null,
            null,
            null,
            299,
            null,
            24,
            479,
            null,
            null,
            null,
            null,
            null,
            null,
            null,
            null,
            null,
            null,
            null
           ],
           "y": [
            null,
            178,
            32,
            null,
            332,
            null,
            56,
            396,
            42,
            null,
            null,
            164,
            null,
            null,
            null,
            183,
            null,
            214,
            285,
            null,
            null,
            null,
            null,
            null,
            null,
            null,
            null,
            null,
            null,
            null
           ]
          }
         ]
        },
        {
         "data": [
          {
           "type": "scatter",
           "x": [
            null,
            170,
            80,
            null,
            277,
            null,
            247,
            425,
            417,
            null,
            null,
            444,
            null,
            null,
            null,
            307,
            null,
            29,
            476,
            271,
            null,
            null,
            null,
            null,
            null,
            null,
            null,
            null,
            null,
            null
           ],
           "y": [
            null,
            174,
            30,
            null,
            299,
            null,
            58,
            399,
            36,
            null,
            null,
            163,
            null,
            null,
            null,
            179,
            null,
            220,
            282,
            381,
            null,
            null,
            null,
            null,
            null,
            null,
            null,
            null,
            null,
            null
           ]
          }
         ]
        },
        {
         "data": [
          {
           "type": "scatter",
           "x": [
            null,
            171,
            79,
            null,
            265,
            null,
            243,
            426,
            415,
            null,
            null,
            442,
            null,
            null,
            null,
            305,
            null,
            28,
            472,
            null,
            null,
            null,
            null,
            null,
            null,
            null,
            null,
            null,
            null,
            null
           ],
           "y": [
            null,
            174,
            30,
            null,
            332,
            null,
            61,
            401,
            34,
            null,
            null,
            163,
            null,
            null,
            null,
            173,
            null,
            222,
            287,
            null,
            null,
            null,
            null,
            null,
            null,
            null,
            null,
            null,
            null,
            null
           ]
          }
         ]
        },
        {
         "data": [
          {
           "type": "scatter",
           "x": [
            null,
            170,
            77,
            null,
            269,
            null,
            244,
            426,
            414,
            null,
            null,
            443,
            null,
            null,
            null,
            299,
            null,
            28,
            473,
            null,
            null,
            null,
            null,
            null,
            null,
            null,
            null,
            null,
            null,
            null
           ],
           "y": [
            null,
            169,
            27,
            null,
            331,
            null,
            62,
            400,
            36,
            null,
            null,
            159,
            null,
            null,
            null,
            173,
            null,
            228,
            286,
            null,
            null,
            null,
            null,
            null,
            null,
            null,
            null,
            null,
            null,
            null
           ]
          }
         ]
        },
        {
         "data": [
          {
           "type": "scatter",
           "x": [
            null,
            170,
            79,
            null,
            268,
            null,
            247,
            427,
            417,
            null,
            null,
            448,
            null,
            null,
            null,
            299,
            null,
            28,
            464,
            null,
            null,
            null,
            null,
            null,
            null,
            null,
            null,
            null,
            null,
            null
           ],
           "y": [
            null,
            163,
            28,
            null,
            331,
            null,
            64,
            402,
            37,
            null,
            null,
            164,
            null,
            null,
            null,
            172,
            null,
            233,
            287,
            null,
            null,
            null,
            null,
            null,
            null,
            null,
            null,
            null,
            null,
            null
           ]
          }
         ]
        },
        {
         "data": [
          {
           "type": "scatter",
           "x": [
            null,
            169,
            83,
            null,
            265,
            null,
            248,
            419,
            416,
            null,
            null,
            447,
            null,
            null,
            null,
            300,
            null,
            27,
            453,
            null,
            null,
            null,
            null,
            null,
            null,
            null,
            null,
            null,
            null,
            null
           ],
           "y": [
            null,
            156,
            26,
            null,
            333,
            null,
            64,
            404,
            37,
            null,
            null,
            165,
            null,
            null,
            null,
            172,
            null,
            233,
            284,
            null,
            null,
            null,
            null,
            null,
            null,
            null,
            null,
            null,
            null,
            null
           ]
          }
         ]
        },
        {
         "data": [
          {
           "type": "scatter",
           "x": [
            null,
            160,
            74,
            null,
            260,
            null,
            238,
            408,
            408,
            null,
            null,
            440,
            null,
            null,
            null,
            289,
            null,
            23,
            438,
            null,
            255,
            null,
            null,
            null,
            null,
            null,
            null,
            null,
            null,
            null
           ],
           "y": [
            null,
            154,
            27,
            null,
            295,
            null,
            64,
            403,
            36,
            null,
            null,
            168,
            null,
            null,
            null,
            174,
            null,
            218,
            283,
            null,
            383,
            null,
            null,
            null,
            null,
            null,
            null,
            null,
            null,
            null
           ]
          }
         ]
        },
        {
         "data": [
          {
           "type": "scatter",
           "x": [
            null,
            167,
            83,
            null,
            263,
            null,
            243,
            415,
            413,
            null,
            null,
            449,
            null,
            null,
            null,
            291,
            null,
            25,
            444,
            null,
            260,
            null,
            null,
            null,
            null,
            null,
            null,
            null,
            null,
            null
           ],
           "y": [
            null,
            150,
            28,
            null,
            298,
            null,
            67,
            406,
            36,
            null,
            null,
            174,
            null,
            null,
            null,
            181,
            null,
            229,
            289,
            null,
            390,
            null,
            null,
            null,
            null,
            null,
            null,
            null,
            null,
            null
           ]
          }
         ]
        },
        {
         "data": [
          {
           "type": "scatter",
           "x": [
            null,
            162,
            79,
            null,
            253,
            null,
            238,
            412,
            409,
            null,
            null,
            444,
            null,
            null,
            null,
            288,
            null,
            null,
            439,
            null,
            255,
            null,
            null,
            null,
            null,
            null,
            null,
            null,
            null,
            null
           ],
           "y": [
            null,
            141,
            26,
            null,
            297,
            null,
            65,
            406,
            34,
            null,
            null,
            171,
            null,
            null,
            null,
            178,
            null,
            null,
            290,
            null,
            392,
            null,
            null,
            null,
            null,
            null,
            null,
            null,
            null,
            null
           ]
          }
         ]
        },
        {
         "data": [
          {
           "type": "scatter",
           "x": [
            null,
            167,
            82,
            null,
            262,
            null,
            242,
            null,
            412,
            null,
            null,
            445,
            null,
            null,
            null,
            295,
            null,
            null,
            441,
            null,
            261,
            null,
            null,
            null,
            null,
            null,
            null,
            null,
            null,
            null
           ],
           "y": [
            null,
            141,
            25,
            null,
            300,
            null,
            69,
            null,
            36,
            null,
            null,
            171,
            null,
            null,
            null,
            179,
            null,
            null,
            293,
            null,
            394,
            null,
            null,
            null,
            null,
            null,
            null,
            null,
            null,
            null
           ]
          }
         ]
        },
        {
         "data": [
          {
           "type": "scatter",
           "x": [
            null,
            162,
            73,
            null,
            null,
            null,
            235,
            null,
            406,
            null,
            null,
            434,
            null,
            null,
            null,
            295,
            null,
            null,
            429,
            null,
            255,
            null,
            null,
            null,
            null,
            null,
            null,
            null,
            null,
            null
           ],
           "y": [
            null,
            137,
            22,
            null,
            null,
            null,
            68,
            null,
            37,
            null,
            null,
            171,
            null,
            null,
            null,
            180,
            null,
            null,
            289,
            null,
            386,
            null,
            null,
            null,
            null,
            null,
            null,
            null,
            null,
            null
           ]
          }
         ]
        },
        {
         "data": [
          {
           "type": "scatter",
           "x": [
            null,
            175,
            80,
            null,
            null,
            null,
            248,
            null,
            415,
            null,
            null,
            437,
            null,
            null,
            null,
            308,
            null,
            null,
            435,
            null,
            264,
            null,
            null,
            null,
            null,
            null,
            null,
            null,
            null,
            null
           ],
           "y": [
            null,
            143,
            24,
            null,
            null,
            null,
            68,
            null,
            40,
            null,
            null,
            169,
            null,
            null,
            null,
            183,
            null,
            null,
            291,
            null,
            395,
            null,
            null,
            null,
            null,
            null,
            null,
            null,
            null,
            null
           ]
          }
         ]
        },
        {
         "data": [
          {
           "type": "scatter",
           "x": [
            null,
            172,
            83,
            null,
            null,
            null,
            247,
            null,
            405,
            null,
            null,
            429,
            null,
            null,
            null,
            299,
            null,
            null,
            430,
            null,
            253,
            null,
            null,
            null,
            null,
            null,
            null,
            null,
            null,
            null
           ],
           "y": [
            null,
            140,
            24,
            null,
            null,
            null,
            64,
            null,
            51,
            null,
            null,
            170,
            null,
            null,
            null,
            180,
            null,
            null,
            288,
            null,
            394,
            null,
            null,
            null,
            null,
            null,
            null,
            null,
            null,
            null
           ]
          }
         ]
        },
        {
         "data": [
          {
           "type": "scatter",
           "x": [
            null,
            168,
            80,
            null,
            null,
            null,
            247,
            null,
            401,
            null,
            null,
            420,
            null,
            null,
            null,
            296,
            null,
            null,
            425,
            null,
            246,
            287,
            226,
            null,
            null,
            null,
            null,
            null,
            null,
            null
           ],
           "y": [
            null,
            136,
            20,
            null,
            null,
            null,
            57,
            null,
            48,
            null,
            null,
            167,
            null,
            null,
            null,
            174,
            null,
            null,
            284,
            null,
            391,
            265,
            314,
            null,
            null,
            null,
            null,
            null,
            null,
            null
           ]
          }
         ]
        },
        {
         "data": [
          {
           "type": "scatter",
           "x": [
            null,
            166,
            79,
            null,
            null,
            null,
            251,
            null,
            405,
            null,
            null,
            428,
            null,
            null,
            null,
            300,
            null,
            null,
            424,
            null,
            249,
            297,
            224,
            null,
            null,
            null,
            null,
            null,
            null,
            null
           ],
           "y": [
            null,
            132,
            20,
            null,
            null,
            null,
            59,
            null,
            55,
            null,
            null,
            173,
            null,
            null,
            null,
            171,
            null,
            null,
            283,
            null,
            398,
            270,
            312,
            null,
            null,
            null,
            null,
            null,
            null,
            null
           ]
          }
         ]
        },
        {
         "data": [
          {
           "type": "scatter",
           "x": [
            null,
            163,
            78,
            null,
            null,
            null,
            251,
            null,
            408,
            null,
            null,
            422,
            null,
            null,
            null,
            297,
            null,
            null,
            427,
            null,
            247,
            296,
            225,
            null,
            null,
            null,
            null,
            null,
            null,
            null
           ],
           "y": [
            null,
            130,
            22,
            null,
            null,
            null,
            57,
            null,
            59,
            null,
            null,
            178,
            null,
            null,
            null,
            170,
            null,
            null,
            284,
            null,
            404,
            274,
            319,
            null,
            null,
            null,
            null,
            null,
            null,
            null
           ]
          }
         ]
        },
        {
         "data": [
          {
           "type": "scatter",
           "x": [
            null,
            163,
            76,
            null,
            null,
            null,
            258,
            null,
            413,
            null,
            null,
            426,
            null,
            null,
            null,
            300,
            null,
            null,
            425,
            null,
            258,
            296,
            228,
            null,
            null,
            null,
            null,
            null,
            null,
            null
           ],
           "y": [
            null,
            129,
            21,
            null,
            null,
            null,
            56,
            null,
            60,
            null,
            null,
            181,
            null,
            null,
            null,
            167,
            null,
            null,
            295,
            null,
            406,
            271,
            327,
            null,
            null,
            null,
            null,
            null,
            null,
            null
           ]
          }
         ]
        },
        {
         "data": [
          {
           "type": "scatter",
           "x": [
            null,
            157,
            71,
            null,
            null,
            null,
            255,
            null,
            414,
            null,
            null,
            418,
            null,
            null,
            null,
            295,
            null,
            null,
            414,
            null,
            null,
            293,
            223,
            null,
            null,
            null,
            null,
            null,
            null,
            null
           ],
           "y": [
            null,
            126,
            21,
            null,
            null,
            null,
            49,
            null,
            65,
            null,
            null,
            179,
            null,
            null,
            null,
            164,
            null,
            null,
            304,
            null,
            null,
            269,
            331,
            null,
            null,
            null,
            null,
            null,
            null,
            null
           ]
          }
         ]
        },
        {
         "data": [
          {
           "type": "scatter",
           "x": [
            null,
            160,
            66,
            null,
            null,
            null,
            254,
            null,
            419,
            null,
            null,
            415,
            null,
            null,
            null,
            294,
            null,
            null,
            410,
            null,
            null,
            285,
            216,
            null,
            null,
            null,
            null,
            null,
            null,
            null
           ],
           "y": [
            null,
            121,
            20,
            null,
            null,
            null,
            45,
            null,
            69,
            null,
            null,
            181,
            null,
            null,
            null,
            162,
            null,
            null,
            310,
            null,
            null,
            270,
            336,
            null,
            null,
            null,
            null,
            null,
            null,
            null
           ]
          }
         ]
        },
        {
         "data": [
          {
           "type": "scatter",
           "x": [
            null,
            160,
            63,
            null,
            null,
            null,
            255,
            null,
            425,
            null,
            null,
            416,
            null,
            null,
            null,
            294,
            null,
            null,
            407,
            null,
            null,
            284,
            212,
            null,
            null,
            null,
            null,
            null,
            null,
            null
           ],
           "y": [
            null,
            116,
            18,
            null,
            null,
            null,
            45,
            null,
            72,
            null,
            null,
            181,
            null,
            null,
            null,
            163,
            null,
            null,
            317,
            null,
            null,
            275,
            337,
            null,
            null,
            null,
            null,
            null,
            null,
            null
           ]
          }
         ]
        },
        {
         "data": [
          {
           "type": "scatter",
           "x": [
            null,
            156,
            null,
            null,
            null,
            null,
            254,
            null,
            425,
            null,
            null,
            413,
            null,
            null,
            null,
            291,
            null,
            null,
            403,
            null,
            null,
            278,
            212,
            null,
            null,
            null,
            null,
            null,
            null,
            null
           ],
           "y": [
            null,
            108,
            null,
            null,
            null,
            null,
            46,
            null,
            78,
            null,
            null,
            185,
            null,
            null,
            null,
            162,
            null,
            null,
            317,
            null,
            null,
            273,
            341,
            null,
            null,
            null,
            null,
            null,
            null,
            null
           ]
          }
         ]
        },
        {
         "data": [
          {
           "type": "scatter",
           "x": [
            null,
            163,
            null,
            null,
            null,
            null,
            266,
            null,
            439,
            null,
            null,
            423,
            null,
            null,
            null,
            301,
            null,
            null,
            410,
            null,
            null,
            288,
            218,
            57,
            null,
            null,
            null,
            null,
            null,
            null
           ],
           "y": [
            null,
            106,
            null,
            null,
            null,
            null,
            46,
            null,
            84,
            null,
            null,
            194,
            null,
            null,
            null,
            167,
            null,
            null,
            325,
            null,
            null,
            275,
            348,
            17,
            null,
            null,
            null,
            null,
            null,
            null
           ]
          }
         ]
        },
        {
         "data": [
          {
           "type": "scatter",
           "x": [
            null,
            147,
            null,
            null,
            null,
            null,
            256,
            null,
            429,
            null,
            null,
            407,
            null,
            null,
            null,
            292,
            null,
            null,
            401,
            null,
            null,
            279,
            202,
            null,
            null,
            null,
            null,
            null,
            null,
            null
           ],
           "y": [
            null,
            100,
            null,
            null,
            null,
            null,
            46,
            null,
            89,
            null,
            null,
            203,
            null,
            null,
            null,
            167,
            null,
            null,
            332,
            null,
            null,
            278,
            347,
            null,
            null,
            null,
            null,
            null,
            null,
            null
           ]
          }
         ]
        },
        {
         "data": [
          {
           "type": "scatter",
           "x": [
            null,
            148,
            null,
            null,
            null,
            null,
            256,
            null,
            431,
            null,
            null,
            408,
            null,
            null,
            null,
            296,
            null,
            null,
            399,
            null,
            null,
            280,
            200,
            null,
            null,
            null,
            null,
            null,
            null,
            null
           ],
           "y": [
            null,
            97,
            null,
            null,
            null,
            null,
            44,
            null,
            92,
            null,
            null,
            210,
            null,
            null,
            null,
            166,
            null,
            null,
            337,
            null,
            null,
            276,
            352,
            null,
            null,
            null,
            null,
            null,
            null,
            null
           ]
          }
         ]
        },
        {
         "data": [
          {
           "type": "scatter",
           "x": [
            null,
            155,
            null,
            null,
            null,
            null,
            265,
            null,
            445,
            null,
            null,
            414,
            null,
            null,
            null,
            304,
            null,
            null,
            405,
            null,
            null,
            283,
            205,
            null,
            66,
            null,
            null,
            null,
            null,
            null
           ],
           "y": [
            null,
            95,
            null,
            null,
            null,
            null,
            42,
            null,
            97,
            null,
            null,
            212,
            null,
            null,
            null,
            165,
            null,
            null,
            340,
            null,
            null,
            274,
            357,
            null,
            405,
            null,
            null,
            null,
            null,
            null
           ]
          }
         ]
        },
        {
         "data": [
          {
           "type": "scatter",
           "x": [
            null,
            153,
            null,
            null,
            null,
            null,
            263,
            null,
            446,
            null,
            null,
            412,
            null,
            null,
            null,
            307,
            null,
            null,
            399,
            null,
            null,
            281,
            202,
            null,
            66,
            null,
            null,
            null,
            null,
            null
           ],
           "y": [
            null,
            92,
            null,
            null,
            null,
            null,
            40,
            null,
            101,
            null,
            null,
            215,
            null,
            null,
            null,
            165,
            null,
            null,
            342,
            null,
            null,
            278,
            360,
            null,
            405,
            null,
            null,
            null,
            null,
            null
           ]
          }
         ]
        },
        {
         "data": [
          {
           "type": "scatter",
           "x": [
            null,
            147,
            null,
            null,
            null,
            null,
            253,
            null,
            437,
            null,
            null,
            402,
            null,
            null,
            null,
            297,
            null,
            null,
            382,
            null,
            null,
            265,
            186,
            null,
            51,
            null,
            null,
            null,
            null,
            null
           ],
           "y": [
            null,
            89,
            null,
            null,
            null,
            null,
            42,
            null,
            110,
            null,
            null,
            219,
            null,
            null,
            null,
            163,
            null,
            null,
            345,
            null,
            null,
            279,
            355,
            null,
            407,
            null,
            null,
            null,
            null,
            null
           ]
          }
         ]
        },
        {
         "data": [
          {
           "type": "scatter",
           "x": [
            null,
            149,
            null,
            null,
            null,
            null,
            249,
            null,
            438,
            null,
            null,
            403,
            null,
            null,
            null,
            300,
            null,
            null,
            376,
            null,
            null,
            261,
            189,
            null,
            52,
            null,
            null,
            null,
            null,
            null
           ],
           "y": [
            null,
            93,
            null,
            null,
            null,
            null,
            44,
            null,
            119,
            null,
            null,
            223,
            null,
            null,
            null,
            161,
            null,
            null,
            350,
            null,
            null,
            279,
            358,
            null,
            403,
            null,
            null,
            null,
            null,
            null
           ]
          }
         ]
        },
        {
         "data": [
          {
           "type": "scatter",
           "x": [
            null,
            149,
            null,
            null,
            null,
            null,
            242,
            null,
            441,
            null,
            null,
            406,
            null,
            null,
            null,
            305,
            null,
            null,
            374,
            null,
            null,
            258,
            181,
            null,
            49,
            null,
            null,
            null,
            null,
            null
           ],
           "y": [
            null,
            92,
            null,
            null,
            null,
            null,
            44,
            null,
            120,
            null,
            null,
            223,
            null,
            null,
            null,
            154,
            null,
            null,
            353,
            null,
            null,
            278,
            360,
            null,
            400,
            null,
            null,
            null,
            null,
            null
           ]
          }
         ]
        },
        {
         "data": [
          {
           "type": "scatter",
           "x": [
            null,
            159,
            null,
            null,
            null,
            null,
            250,
            null,
            460,
            null,
            null,
            421,
            null,
            null,
            null,
            313,
            null,
            null,
            384,
            null,
            null,
            267,
            193,
            null,
            56,
            null,
            null,
            null,
            null,
            null
           ],
           "y": [
            null,
            93,
            null,
            null,
            null,
            null,
            42,
            null,
            126,
            null,
            null,
            226,
            null,
            null,
            null,
            156,
            null,
            null,
            353,
            null,
            null,
            275,
            357,
            null,
            400,
            null,
            null,
            null,
            null,
            null
           ]
          }
         ]
        },
        {
         "data": [
          {
           "type": "scatter",
           "x": [
            null,
            148,
            null,
            null,
            null,
            null,
            238,
            null,
            459,
            null,
            null,
            413,
            null,
            null,
            null,
            301,
            null,
            null,
            367,
            null,
            null,
            252,
            185,
            null,
            42,
            null,
            null,
            null,
            null,
            null
           ],
           "y": [
            null,
            90,
            null,
            null,
            null,
            null,
            38,
            null,
            133,
            null,
            null,
            227,
            null,
            null,
            null,
            152,
            null,
            null,
            357,
            null,
            null,
            276,
            356,
            null,
            402,
            null,
            null,
            null,
            null,
            null
           ]
          }
         ]
        },
        {
         "data": [
          {
           "type": "scatter",
           "x": [
            null,
            154,
            null,
            null,
            null,
            null,
            237,
            null,
            472,
            null,
            null,
            417,
            null,
            null,
            null,
            305,
            null,
            null,
            369,
            null,
            null,
            261,
            188,
            null,
            52,
            null,
            null,
            null,
            null,
            null
           ],
           "y": [
            null,
            90,
            null,
            null,
            null,
            null,
            39,
            null,
            141,
            null,
            null,
            232,
            null,
            null,
            null,
            151,
            null,
            null,
            362,
            null,
            null,
            274,
            360,
            null,
            402,
            null,
            null,
            null,
            null,
            null
           ]
          }
         ]
        },
        {
         "data": [
          {
           "type": "scatter",
           "x": [
            null,
            156,
            null,
            null,
            null,
            null,
            237,
            null,
            479,
            null,
            null,
            424,
            null,
            null,
            null,
            309,
            null,
            null,
            370,
            null,
            null,
            260,
            189,
            null,
            56,
            null,
            null,
            null,
            null,
            null
           ],
           "y": [
            null,
            88,
            null,
            null,
            null,
            null,
            41,
            null,
            142,
            null,
            null,
            235,
            null,
            null,
            null,
            150,
            null,
            null,
            362,
            null,
            null,
            278,
            362,
            null,
            402,
            null,
            null,
            null,
            null,
            null
           ]
          }
         ]
        },
        {
         "data": [
          {
           "type": "scatter",
           "x": [
            null,
            154,
            null,
            null,
            null,
            null,
            232,
            null,
            484,
            null,
            null,
            423,
            null,
            null,
            null,
            312,
            null,
            null,
            371,
            null,
            null,
            259,
            183,
            null,
            56,
            null,
            null,
            null,
            null,
            null
           ],
           "y": [
            null,
            82,
            null,
            null,
            null,
            null,
            40,
            null,
            141,
            null,
            null,
            239,
            null,
            null,
            null,
            148,
            null,
            null,
            359,
            null,
            null,
            275,
            358,
            null,
            404,
            null,
            null,
            null,
            null,
            null
           ]
          }
         ]
        },
        {
         "data": [
          {
           "type": "scatter",
           "x": [
            null,
            null,
            null,
            null,
            null,
            null,
            188,
            null,
            null,
            null,
            null,
            418,
            null,
            null,
            null,
            317,
            null,
            null,
            374,
            null,
            null,
            258,
            179,
            null,
            59,
            null,
            null,
            null,
            null,
            null
           ],
           "y": [
            null,
            null,
            null,
            null,
            null,
            null,
            59,
            null,
            null,
            null,
            null,
            243,
            null,
            null,
            null,
            146,
            null,
            null,
            361,
            null,
            null,
            274,
            356,
            null,
            404,
            null,
            null,
            null,
            null,
            null
           ]
          }
         ]
        },
        {
         "data": [
          {
           "type": "scatter",
           "x": [
            null,
            null,
            null,
            null,
            null,
            null,
            182,
            null,
            null,
            null,
            null,
            410,
            null,
            null,
            null,
            310,
            null,
            null,
            364,
            null,
            null,
            251,
            168,
            null,
            58,
            483,
            null,
            null,
            null,
            null
           ],
           "y": [
            null,
            null,
            null,
            null,
            null,
            null,
            56,
            null,
            null,
            null,
            null,
            248,
            null,
            null,
            null,
            143,
            null,
            null,
            361,
            null,
            null,
            268,
            353,
            null,
            404,
            140,
            null,
            null,
            null,
            null
           ]
          }
         ]
        },
        {
         "data": [
          {
           "type": "scatter",
           "x": [
            null,
            null,
            null,
            null,
            null,
            null,
            149,
            null,
            null,
            null,
            null,
            412,
            null,
            null,
            null,
            318,
            null,
            null,
            359,
            null,
            null,
            255,
            170,
            null,
            60,
            483,
            234,
            null,
            null,
            null
           ],
           "y": [
            null,
            null,
            null,
            null,
            null,
            null,
            75,
            null,
            null,
            null,
            null,
            253,
            null,
            null,
            null,
            142,
            null,
            null,
            362,
            null,
            null,
            269,
            351,
            null,
            404,
            142,
            31,
            null,
            null,
            null
           ]
          }
         ]
        },
        {
         "data": [
          {
           "type": "scatter",
           "x": [
            null,
            null,
            null,
            null,
            null,
            null,
            137,
            null,
            null,
            null,
            null,
            402,
            null,
            null,
            null,
            309,
            null,
            null,
            349,
            null,
            null,
            243,
            157,
            null,
            55,
            479,
            224,
            null,
            null,
            null
           ],
           "y": [
            null,
            null,
            null,
            null,
            null,
            null,
            75,
            null,
            null,
            null,
            null,
            252,
            null,
            null,
            null,
            138,
            null,
            null,
            364,
            null,
            null,
            271,
            351,
            null,
            404,
            161,
            29,
            null,
            null,
            null
           ]
          }
         ]
        },
        {
         "data": [
          {
           "type": "scatter",
           "x": [
            null,
            null,
            null,
            null,
            null,
            null,
            140,
            null,
            null,
            null,
            null,
            403,
            null,
            null,
            null,
            312,
            null,
            null,
            350,
            null,
            null,
            246,
            160,
            null,
            56,
            479,
            225,
            null,
            null,
            null
           ],
           "y": [
            null,
            null,
            null,
            null,
            null,
            null,
            73,
            null,
            null,
            null,
            null,
            250,
            null,
            null,
            null,
            136,
            null,
            null,
            361,
            null,
            null,
            275,
            345,
            null,
            404,
            162,
            26,
            null,
            null,
            null
           ]
          }
         ]
        },
        {
         "data": [
          {
           "type": "scatter",
           "x": [
            null,
            null,
            null,
            null,
            null,
            null,
            143,
            null,
            null,
            null,
            null,
            410,
            null,
            null,
            null,
            320,
            null,
            null,
            354,
            null,
            null,
            248,
            163,
            null,
            50,
            482,
            230,
            null,
            null,
            null
           ],
           "y": [
            null,
            null,
            null,
            null,
            null,
            null,
            75,
            null,
            null,
            null,
            null,
            254,
            null,
            null,
            null,
            136,
            null,
            null,
            361,
            null,
            null,
            276,
            347,
            null,
            403,
            162,
            28,
            null,
            null,
            null
           ]
          }
         ]
        },
        {
         "data": [
          {
           "type": "scatter",
           "x": [
            null,
            null,
            null,
            null,
            null,
            null,
            142,
            null,
            null,
            null,
            null,
            410,
            null,
            null,
            null,
            319,
            null,
            null,
            352,
            null,
            null,
            247,
            161,
            null,
            50,
            483,
            234,
            null,
            null,
            null
           ],
           "y": [
            null,
            null,
            null,
            null,
            null,
            null,
            76,
            null,
            null,
            null,
            null,
            252,
            null,
            null,
            null,
            137,
            null,
            null,
            359,
            null,
            null,
            280,
            346,
            null,
            404,
            162,
            27,
            null,
            null,
            null
           ]
          }
         ]
        },
        {
         "data": [
          {
           "type": "scatter",
           "x": [
            null,
            null,
            null,
            null,
            null,
            null,
            143,
            null,
            null,
            null,
            null,
            412,
            null,
            null,
            null,
            316,
            null,
            null,
            351,
            null,
            null,
            244,
            161,
            null,
            52,
            482,
            233,
            null,
            null,
            null
           ],
           "y": [
            null,
            null,
            null,
            null,
            null,
            null,
            72,
            null,
            null,
            null,
            null,
            257,
            null,
            null,
            null,
            137,
            null,
            null,
            358,
            null,
            null,
            283,
            347,
            null,
            402,
            167,
            24,
            null,
            null,
            null
           ]
          }
         ]
        },
        {
         "data": [
          {
           "type": "scatter",
           "x": [
            null,
            null,
            null,
            null,
            null,
            null,
            145,
            null,
            null,
            null,
            null,
            415,
            null,
            null,
            null,
            314,
            null,
            null,
            352,
            null,
            null,
            241,
            157,
            null,
            52,
            482,
            235,
            473,
            null,
            null
           ],
           "y": [
            null,
            null,
            null,
            null,
            null,
            null,
            73,
            null,
            null,
            null,
            null,
            257,
            null,
            null,
            null,
            133,
            null,
            null,
            357,
            null,
            null,
            284,
            347,
            null,
            403,
            162,
            21,
            95,
            null,
            null
           ]
          }
         ]
        },
        {
         "data": [
          {
           "type": "scatter",
           "x": [
            null,
            null,
            null,
            null,
            null,
            null,
            147,
            null,
            null,
            null,
            null,
            424,
            null,
            null,
            null,
            315,
            null,
            null,
            354,
            null,
            null,
            243,
            155,
            null,
            50,
            482,
            236,
            null,
            null,
            null
           ],
           "y": [
            null,
            null,
            null,
            null,
            null,
            null,
            74,
            null,
            null,
            null,
            null,
            259,
            null,
            null,
            null,
            132,
            null,
            null,
            358,
            null,
            null,
            284,
            346,
            null,
            403,
            158,
            20,
            null,
            null,
            null
           ]
          }
         ]
        },
        {
         "data": [
          {
           "type": "scatter",
           "x": [
            null,
            null,
            473,
            null,
            null,
            null,
            143,
            null,
            null,
            null,
            null,
            421,
            null,
            null,
            null,
            311,
            null,
            null,
            350,
            null,
            null,
            242,
            153,
            null,
            44,
            null,
            234,
            null,
            null,
            null
           ],
           "y": [
            null,
            null,
            97,
            null,
            null,
            null,
            76,
            null,
            null,
            null,
            null,
            259,
            null,
            null,
            null,
            130,
            null,
            null,
            358,
            null,
            null,
            282,
            350,
            null,
            403,
            null,
            20,
            null,
            null,
            null
           ]
          }
         ]
        },
        {
         "data": [
          {
           "type": "scatter",
           "x": [
            null,
            null,
            481,
            null,
            null,
            null,
            144,
            null,
            null,
            null,
            null,
            423,
            null,
            null,
            null,
            311,
            null,
            null,
            348,
            null,
            null,
            246,
            154,
            null,
            43,
            null,
            231,
            null,
            482,
            null
           ],
           "y": [
            null,
            null,
            92,
            null,
            null,
            null,
            72,
            null,
            null,
            null,
            null,
            261,
            null,
            null,
            null,
            131,
            null,
            null,
            362,
            null,
            null,
            279,
            347,
            null,
            402,
            null,
            20,
            null,
            164,
            null
           ]
          }
         ]
        },
        {
         "data": [
          {
           "type": "scatter",
           "x": [
            null,
            null,
            480,
            null,
            null,
            null,
            150,
            null,
            null,
            null,
            null,
            431,
            null,
            null,
            null,
            317,
            null,
            null,
            352,
            null,
            null,
            251,
            153,
            null,
            45,
            null,
            228,
            null,
            480,
            null
           ],
           "y": [
            null,
            null,
            99,
            null,
            null,
            null,
            74,
            null,
            null,
            null,
            null,
            262,
            null,
            null,
            null,
            130,
            null,
            null,
            360,
            null,
            null,
            274,
            344,
            null,
            402,
            null,
            20,
            null,
            175,
            null
           ]
          }
         ]
        },
        {
         "data": [
          {
           "type": "scatter",
           "x": [
            null,
            null,
            482,
            null,
            null,
            null,
            152,
            null,
            null,
            null,
            null,
            440,
            null,
            null,
            null,
            326,
            null,
            null,
            359,
            null,
            null,
            258,
            151,
            null,
            44,
            null,
            226,
            null,
            484,
            null
           ],
           "y": [
            null,
            null,
            93,
            null,
            null,
            null,
            74,
            null,
            null,
            null,
            null,
            262,
            null,
            null,
            null,
            130,
            null,
            null,
            358,
            null,
            null,
            272,
            342,
            null,
            400,
            null,
            19,
            null,
            175,
            null
           ]
          }
         ]
        },
        {
         "data": [
          {
           "type": "scatter",
           "x": [
            null,
            null,
            485,
            null,
            null,
            null,
            158,
            null,
            null,
            null,
            null,
            441,
            null,
            null,
            null,
            326,
            null,
            null,
            365,
            null,
            null,
            268,
            156,
            null,
            46,
            null,
            230,
            null,
            485,
            null
           ],
           "y": [
            null,
            null,
            96,
            null,
            null,
            null,
            75,
            null,
            null,
            null,
            null,
            261,
            null,
            null,
            null,
            128,
            null,
            null,
            356,
            null,
            null,
            269,
            342,
            null,
            401,
            null,
            19,
            null,
            172,
            null
           ]
          }
         ]
        },
        {
         "data": [
          {
           "type": "scatter",
           "x": [
            null,
            null,
            474,
            null,
            null,
            null,
            147,
            null,
            null,
            null,
            null,
            433,
            null,
            null,
            null,
            313,
            null,
            null,
            351,
            null,
            null,
            256,
            143,
            null,
            38,
            null,
            218,
            null,
            479,
            null
           ],
           "y": [
            null,
            null,
            95,
            null,
            null,
            null,
            82,
            null,
            null,
            null,
            null,
            261,
            null,
            null,
            null,
            130,
            null,
            null,
            356,
            null,
            null,
            267,
            346,
            null,
            399,
            null,
            18,
            null,
            170,
            null
           ]
          }
         ]
        },
        {
         "data": [
          {
           "type": "scatter",
           "x": [
            null,
            null,
            null,
            null,
            null,
            null,
            148,
            null,
            null,
            null,
            null,
            442,
            null,
            null,
            null,
            314,
            null,
            null,
            354,
            null,
            null,
            261,
            143,
            null,
            40,
            null,
            220,
            null,
            478,
            null
           ],
           "y": [
            null,
            null,
            null,
            null,
            null,
            null,
            80,
            null,
            null,
            null,
            null,
            262,
            null,
            null,
            null,
            130,
            null,
            null,
            357,
            null,
            null,
            264,
            340,
            null,
            398,
            null,
            18,
            null,
            132,
            null
           ]
          }
         ]
        },
        {
         "data": [
          {
           "type": "scatter",
           "x": [
            null,
            null,
            null,
            null,
            null,
            null,
            143,
            null,
            null,
            null,
            null,
            442,
            null,
            null,
            null,
            313,
            null,
            null,
            347,
            null,
            null,
            259,
            143,
            null,
            37,
            null,
            null,
            null,
            477,
            null
           ],
           "y": [
            null,
            null,
            null,
            null,
            null,
            null,
            80,
            null,
            null,
            null,
            null,
            262,
            null,
            null,
            null,
            128,
            null,
            null,
            356,
            null,
            null,
            261,
            338,
            null,
            396,
            null,
            null,
            null,
            134,
            null
           ]
          }
         ]
        },
        {
         "data": [
          {
           "type": "scatter",
           "x": [
            null,
            null,
            null,
            null,
            null,
            null,
            143,
            null,
            null,
            null,
            null,
            447,
            null,
            null,
            null,
            315,
            null,
            null,
            347,
            null,
            null,
            262,
            142,
            null,
            36,
            null,
            null,
            null,
            471,
            201
           ],
           "y": [
            null,
            null,
            null,
            null,
            null,
            null,
            81,
            null,
            null,
            null,
            null,
            262,
            null,
            null,
            null,
            128,
            null,
            null,
            356,
            null,
            null,
            257,
            335,
            null,
            397,
            null,
            null,
            null,
            102,
            19
           ]
          }
         ]
        },
        {
         "data": [
          {
           "type": "scatter",
           "x": [
            null,
            null,
            null,
            null,
            null,
            null,
            144,
            null,
            null,
            null,
            null,
            455,
            null,
            null,
            null,
            314,
            null,
            null,
            348,
            null,
            null,
            265,
            142,
            null,
            34,
            null,
            null,
            null,
            468,
            212
           ],
           "y": [
            null,
            null,
            null,
            null,
            null,
            null,
            80,
            null,
            null,
            null,
            null,
            244,
            null,
            null,
            null,
            126,
            null,
            null,
            352,
            null,
            null,
            253,
            337,
            null,
            397,
            null,
            null,
            null,
            113,
            17
           ]
          }
         ]
        },
        {
         "data": [
          {
           "type": "scatter",
           "x": [
            null,
            null,
            null,
            null,
            null,
            null,
            150,
            null,
            null,
            null,
            null,
            460,
            null,
            null,
            null,
            319,
            null,
            null,
            359,
            null,
            null,
            272,
            142,
            null,
            35,
            null,
            null,
            null,
            467,
            215
           ],
           "y": [
            null,
            null,
            null,
            null,
            null,
            null,
            82,
            null,
            null,
            null,
            null,
            252,
            null,
            null,
            null,
            127,
            null,
            null,
            351,
            null,
            null,
            248,
            338,
            null,
            399,
            null,
            null,
            null,
            114,
            17
           ]
          }
         ]
        }
       ],
       "layout": {
        "autosize": false,
        "height": 432,
        "template": {
         "data": {
          "bar": [
           {
            "error_x": {
             "color": "#2a3f5f"
            },
            "error_y": {
             "color": "#2a3f5f"
            },
            "marker": {
             "line": {
              "color": "#E5ECF6",
              "width": 0.5
             },
             "pattern": {
              "fillmode": "overlay",
              "size": 10,
              "solidity": 0.2
             }
            },
            "type": "bar"
           }
          ],
          "barpolar": [
           {
            "marker": {
             "line": {
              "color": "#E5ECF6",
              "width": 0.5
             },
             "pattern": {
              "fillmode": "overlay",
              "size": 10,
              "solidity": 0.2
             }
            },
            "type": "barpolar"
           }
          ],
          "carpet": [
           {
            "aaxis": {
             "endlinecolor": "#2a3f5f",
             "gridcolor": "white",
             "linecolor": "white",
             "minorgridcolor": "white",
             "startlinecolor": "#2a3f5f"
            },
            "baxis": {
             "endlinecolor": "#2a3f5f",
             "gridcolor": "white",
             "linecolor": "white",
             "minorgridcolor": "white",
             "startlinecolor": "#2a3f5f"
            },
            "type": "carpet"
           }
          ],
          "choropleth": [
           {
            "colorbar": {
             "outlinewidth": 0,
             "ticks": ""
            },
            "type": "choropleth"
           }
          ],
          "contour": [
           {
            "colorbar": {
             "outlinewidth": 0,
             "ticks": ""
            },
            "colorscale": [
             [
              0,
              "#0d0887"
             ],
             [
              0.1111111111111111,
              "#46039f"
             ],
             [
              0.2222222222222222,
              "#7201a8"
             ],
             [
              0.3333333333333333,
              "#9c179e"
             ],
             [
              0.4444444444444444,
              "#bd3786"
             ],
             [
              0.5555555555555556,
              "#d8576b"
             ],
             [
              0.6666666666666666,
              "#ed7953"
             ],
             [
              0.7777777777777778,
              "#fb9f3a"
             ],
             [
              0.8888888888888888,
              "#fdca26"
             ],
             [
              1,
              "#f0f921"
             ]
            ],
            "type": "contour"
           }
          ],
          "contourcarpet": [
           {
            "colorbar": {
             "outlinewidth": 0,
             "ticks": ""
            },
            "type": "contourcarpet"
           }
          ],
          "heatmap": [
           {
            "colorbar": {
             "outlinewidth": 0,
             "ticks": ""
            },
            "colorscale": [
             [
              0,
              "#0d0887"
             ],
             [
              0.1111111111111111,
              "#46039f"
             ],
             [
              0.2222222222222222,
              "#7201a8"
             ],
             [
              0.3333333333333333,
              "#9c179e"
             ],
             [
              0.4444444444444444,
              "#bd3786"
             ],
             [
              0.5555555555555556,
              "#d8576b"
             ],
             [
              0.6666666666666666,
              "#ed7953"
             ],
             [
              0.7777777777777778,
              "#fb9f3a"
             ],
             [
              0.8888888888888888,
              "#fdca26"
             ],
             [
              1,
              "#f0f921"
             ]
            ],
            "type": "heatmap"
           }
          ],
          "heatmapgl": [
           {
            "colorbar": {
             "outlinewidth": 0,
             "ticks": ""
            },
            "colorscale": [
             [
              0,
              "#0d0887"
             ],
             [
              0.1111111111111111,
              "#46039f"
             ],
             [
              0.2222222222222222,
              "#7201a8"
             ],
             [
              0.3333333333333333,
              "#9c179e"
             ],
             [
              0.4444444444444444,
              "#bd3786"
             ],
             [
              0.5555555555555556,
              "#d8576b"
             ],
             [
              0.6666666666666666,
              "#ed7953"
             ],
             [
              0.7777777777777778,
              "#fb9f3a"
             ],
             [
              0.8888888888888888,
              "#fdca26"
             ],
             [
              1,
              "#f0f921"
             ]
            ],
            "type": "heatmapgl"
           }
          ],
          "histogram": [
           {
            "marker": {
             "pattern": {
              "fillmode": "overlay",
              "size": 10,
              "solidity": 0.2
             }
            },
            "type": "histogram"
           }
          ],
          "histogram2d": [
           {
            "colorbar": {
             "outlinewidth": 0,
             "ticks": ""
            },
            "colorscale": [
             [
              0,
              "#0d0887"
             ],
             [
              0.1111111111111111,
              "#46039f"
             ],
             [
              0.2222222222222222,
              "#7201a8"
             ],
             [
              0.3333333333333333,
              "#9c179e"
             ],
             [
              0.4444444444444444,
              "#bd3786"
             ],
             [
              0.5555555555555556,
              "#d8576b"
             ],
             [
              0.6666666666666666,
              "#ed7953"
             ],
             [
              0.7777777777777778,
              "#fb9f3a"
             ],
             [
              0.8888888888888888,
              "#fdca26"
             ],
             [
              1,
              "#f0f921"
             ]
            ],
            "type": "histogram2d"
           }
          ],
          "histogram2dcontour": [
           {
            "colorbar": {
             "outlinewidth": 0,
             "ticks": ""
            },
            "colorscale": [
             [
              0,
              "#0d0887"
             ],
             [
              0.1111111111111111,
              "#46039f"
             ],
             [
              0.2222222222222222,
              "#7201a8"
             ],
             [
              0.3333333333333333,
              "#9c179e"
             ],
             [
              0.4444444444444444,
              "#bd3786"
             ],
             [
              0.5555555555555556,
              "#d8576b"
             ],
             [
              0.6666666666666666,
              "#ed7953"
             ],
             [
              0.7777777777777778,
              "#fb9f3a"
             ],
             [
              0.8888888888888888,
              "#fdca26"
             ],
             [
              1,
              "#f0f921"
             ]
            ],
            "type": "histogram2dcontour"
           }
          ],
          "mesh3d": [
           {
            "colorbar": {
             "outlinewidth": 0,
             "ticks": ""
            },
            "type": "mesh3d"
           }
          ],
          "parcoords": [
           {
            "line": {
             "colorbar": {
              "outlinewidth": 0,
              "ticks": ""
             }
            },
            "type": "parcoords"
           }
          ],
          "pie": [
           {
            "automargin": true,
            "type": "pie"
           }
          ],
          "scatter": [
           {
            "fillpattern": {
             "fillmode": "overlay",
             "size": 10,
             "solidity": 0.2
            },
            "type": "scatter"
           }
          ],
          "scatter3d": [
           {
            "line": {
             "colorbar": {
              "outlinewidth": 0,
              "ticks": ""
             }
            },
            "marker": {
             "colorbar": {
              "outlinewidth": 0,
              "ticks": ""
             }
            },
            "type": "scatter3d"
           }
          ],
          "scattercarpet": [
           {
            "marker": {
             "colorbar": {
              "outlinewidth": 0,
              "ticks": ""
             }
            },
            "type": "scattercarpet"
           }
          ],
          "scattergeo": [
           {
            "marker": {
             "colorbar": {
              "outlinewidth": 0,
              "ticks": ""
             }
            },
            "type": "scattergeo"
           }
          ],
          "scattergl": [
           {
            "marker": {
             "colorbar": {
              "outlinewidth": 0,
              "ticks": ""
             }
            },
            "type": "scattergl"
           }
          ],
          "scattermapbox": [
           {
            "marker": {
             "colorbar": {
              "outlinewidth": 0,
              "ticks": ""
             }
            },
            "type": "scattermapbox"
           }
          ],
          "scatterpolar": [
           {
            "marker": {
             "colorbar": {
              "outlinewidth": 0,
              "ticks": ""
             }
            },
            "type": "scatterpolar"
           }
          ],
          "scatterpolargl": [
           {
            "marker": {
             "colorbar": {
              "outlinewidth": 0,
              "ticks": ""
             }
            },
            "type": "scatterpolargl"
           }
          ],
          "scatterternary": [
           {
            "marker": {
             "colorbar": {
              "outlinewidth": 0,
              "ticks": ""
             }
            },
            "type": "scatterternary"
           }
          ],
          "surface": [
           {
            "colorbar": {
             "outlinewidth": 0,
             "ticks": ""
            },
            "colorscale": [
             [
              0,
              "#0d0887"
             ],
             [
              0.1111111111111111,
              "#46039f"
             ],
             [
              0.2222222222222222,
              "#7201a8"
             ],
             [
              0.3333333333333333,
              "#9c179e"
             ],
             [
              0.4444444444444444,
              "#bd3786"
             ],
             [
              0.5555555555555556,
              "#d8576b"
             ],
             [
              0.6666666666666666,
              "#ed7953"
             ],
             [
              0.7777777777777778,
              "#fb9f3a"
             ],
             [
              0.8888888888888888,
              "#fdca26"
             ],
             [
              1,
              "#f0f921"
             ]
            ],
            "type": "surface"
           }
          ],
          "table": [
           {
            "cells": {
             "fill": {
              "color": "#EBF0F8"
             },
             "line": {
              "color": "white"
             }
            },
            "header": {
             "fill": {
              "color": "#C8D4E3"
             },
             "line": {
              "color": "white"
             }
            },
            "type": "table"
           }
          ]
         },
         "layout": {
          "annotationdefaults": {
           "arrowcolor": "#2a3f5f",
           "arrowhead": 0,
           "arrowwidth": 1
          },
          "autotypenumbers": "strict",
          "coloraxis": {
           "colorbar": {
            "outlinewidth": 0,
            "ticks": ""
           }
          },
          "colorscale": {
           "diverging": [
            [
             0,
             "#8e0152"
            ],
            [
             0.1,
             "#c51b7d"
            ],
            [
             0.2,
             "#de77ae"
            ],
            [
             0.3,
             "#f1b6da"
            ],
            [
             0.4,
             "#fde0ef"
            ],
            [
             0.5,
             "#f7f7f7"
            ],
            [
             0.6,
             "#e6f5d0"
            ],
            [
             0.7,
             "#b8e186"
            ],
            [
             0.8,
             "#7fbc41"
            ],
            [
             0.9,
             "#4d9221"
            ],
            [
             1,
             "#276419"
            ]
           ],
           "sequential": [
            [
             0,
             "#0d0887"
            ],
            [
             0.1111111111111111,
             "#46039f"
            ],
            [
             0.2222222222222222,
             "#7201a8"
            ],
            [
             0.3333333333333333,
             "#9c179e"
            ],
            [
             0.4444444444444444,
             "#bd3786"
            ],
            [
             0.5555555555555556,
             "#d8576b"
            ],
            [
             0.6666666666666666,
             "#ed7953"
            ],
            [
             0.7777777777777778,
             "#fb9f3a"
            ],
            [
             0.8888888888888888,
             "#fdca26"
            ],
            [
             1,
             "#f0f921"
            ]
           ],
           "sequentialminus": [
            [
             0,
             "#0d0887"
            ],
            [
             0.1111111111111111,
             "#46039f"
            ],
            [
             0.2222222222222222,
             "#7201a8"
            ],
            [
             0.3333333333333333,
             "#9c179e"
            ],
            [
             0.4444444444444444,
             "#bd3786"
            ],
            [
             0.5555555555555556,
             "#d8576b"
            ],
            [
             0.6666666666666666,
             "#ed7953"
            ],
            [
             0.7777777777777778,
             "#fb9f3a"
            ],
            [
             0.8888888888888888,
             "#fdca26"
            ],
            [
             1,
             "#f0f921"
            ]
           ]
          },
          "colorway": [
           "#636efa",
           "#EF553B",
           "#00cc96",
           "#ab63fa",
           "#FFA15A",
           "#19d3f3",
           "#FF6692",
           "#B6E880",
           "#FF97FF",
           "#FECB52"
          ],
          "font": {
           "color": "#2a3f5f"
          },
          "geo": {
           "bgcolor": "white",
           "lakecolor": "white",
           "landcolor": "#E5ECF6",
           "showlakes": true,
           "showland": true,
           "subunitcolor": "white"
          },
          "hoverlabel": {
           "align": "left"
          },
          "hovermode": "closest",
          "mapbox": {
           "style": "light"
          },
          "paper_bgcolor": "white",
          "plot_bgcolor": "#E5ECF6",
          "polar": {
           "angularaxis": {
            "gridcolor": "white",
            "linecolor": "white",
            "ticks": ""
           },
           "bgcolor": "#E5ECF6",
           "radialaxis": {
            "gridcolor": "white",
            "linecolor": "white",
            "ticks": ""
           }
          },
          "scene": {
           "xaxis": {
            "backgroundcolor": "#E5ECF6",
            "gridcolor": "white",
            "gridwidth": 2,
            "linecolor": "white",
            "showbackground": true,
            "ticks": "",
            "zerolinecolor": "white"
           },
           "yaxis": {
            "backgroundcolor": "#E5ECF6",
            "gridcolor": "white",
            "gridwidth": 2,
            "linecolor": "white",
            "showbackground": true,
            "ticks": "",
            "zerolinecolor": "white"
           },
           "zaxis": {
            "backgroundcolor": "#E5ECF6",
            "gridcolor": "white",
            "gridwidth": 2,
            "linecolor": "white",
            "showbackground": true,
            "ticks": "",
            "zerolinecolor": "white"
           }
          },
          "shapedefaults": {
           "line": {
            "color": "#2a3f5f"
           }
          },
          "ternary": {
           "aaxis": {
            "gridcolor": "white",
            "linecolor": "white",
            "ticks": ""
           },
           "baxis": {
            "gridcolor": "white",
            "linecolor": "white",
            "ticks": ""
           },
           "bgcolor": "#E5ECF6",
           "caxis": {
            "gridcolor": "white",
            "linecolor": "white",
            "ticks": ""
           }
          },
          "title": {
           "x": 0.05
          },
          "xaxis": {
           "automargin": true,
           "gridcolor": "white",
           "linecolor": "white",
           "ticks": "",
           "title": {
            "standoff": 15
           },
           "zerolinecolor": "white",
           "zerolinewidth": 2
          },
          "yaxis": {
           "automargin": true,
           "gridcolor": "white",
           "linecolor": "white",
           "ticks": "",
           "title": {
            "standoff": 15
           },
           "zerolinecolor": "white",
           "zerolinewidth": 2
          }
         }
        },
        "title": {
         "text": "Points Animation"
        },
        "updatemenus": [
         {
          "buttons": [
           {
            "args": [
             null,
             {
              "frame": {
               "duration": 500,
               "redraw": true
              },
              "fromcurrent": true,
              "mode": "immediate"
             }
            ],
            "label": "Play",
            "method": "animate"
           },
           {
            "args": [
             [
              null
             ],
             {
              "frame": {
               "duration": 0,
               "redraw": false
              },
              "mode": "immediate",
              "transition": {
               "duration": 0
              }
             }
            ],
            "label": "Pause",
            "method": "animate"
           }
          ],
          "direction": "left",
          "pad": {
           "r": 10,
           "t": 10
          },
          "showactive": false,
          "type": "buttons",
          "x": 0.1,
          "xanchor": "right",
          "y": 0,
          "yanchor": "top"
         }
        ],
        "width": 512,
        "xaxis": {
         "range": [
          0,
          512
         ]
        },
        "yaxis": {
         "range": [
          0,
          432
         ],
         "scaleanchor": "x",
         "scaleratio": 1
        }
       }
      }
     },
     "metadata": {},
     "output_type": "display_data"
    }
   ],
   "source": [
    "import plotly.graph_objects as go\n",
    "import numpy as np\n",
    "\n",
    "colors = np.random.choice(range(256), size=(num_points, 3), replace=True)\n",
    "marker_colors = [colors[i] for i in range(num_points) for _ in range(num_frames)]\n",
    "\n",
    "# Create the initial scatter plot with the first frame's coordinates\n",
    "fig = go.Figure(\n",
    "    data=go.Scatter(\n",
    "        x=x_coords_filtered[0],\n",
    "        y=y_coords_filtered[0],\n",
    "        mode=\"markers\",\n",
    "        marker=dict(\n",
    "            size=8,\n",
    "            color=x_coords_filtered[0],\n",
    "            # opacity=0.8,\n",
    "            # colorscale=\"Viridis\"\n",
    "        ),\n",
    "        showlegend=False\n",
    "    ),\n",
    "    layout=go.Layout(\n",
    "        width=512,\n",
    "        height=432,\n",
    "        autosize=False,\n",
    "        xaxis=dict(range=[0, 512]),\n",
    "        yaxis=dict(range=[0, 432], scaleanchor=\"x\", scaleratio=1),\n",
    "        title=\"Points Animation\"\n",
    "    ),\n",
    "    frames=[go.Frame(data=[go.Scatter(x=x_coords_filtered[i], y=y_coords_filtered[i])]) for i in range(1, num_frames)]\n",
    ")\n",
    "\n",
    "# Add play and pause buttons to control the animation\n",
    "fig.update_layout(\n",
    "    updatemenus=[\n",
    "        go.layout.Updatemenu(\n",
    "            type=\"buttons\",\n",
    "            buttons=[\n",
    "                dict(\n",
    "                    label=\"Play\",\n",
    "                    method=\"animate\",\n",
    "                    args=[None, {\"frame\": {\"duration\": 500, \"redraw\": True}, \"fromcurrent\": True, \"mode\": \"immediate\"}]\n",
    "                ),\n",
    "                dict(\n",
    "                    label=\"Pause\",\n",
    "                    method=\"animate\",\n",
    "                    args=[[None], {\"frame\": {\"duration\": 0, \"redraw\": False}, \"mode\": \"immediate\", \"transition\": {\"duration\": 0}}]\n",
    "                )\n",
    "            ],\n",
    "            showactive=False,\n",
    "            direction=\"left\",\n",
    "            pad={\"r\": 10, \"t\": 10},\n",
    "            x=0.1,\n",
    "            xanchor=\"right\",\n",
    "            y=0,\n",
    "            yanchor=\"top\"\n",
    "        ),\n",
    "    ]\n",
    ")\n",
    "\n",
    "# Show the figure\n",
    "fig.show()\n"
   ]
  },
  {
   "cell_type": "code",
   "execution_count": 43,
   "metadata": {},
   "outputs": [],
   "source": [
    "nonzero_indices = np.logical_and(x_coords != 0, y_coords != 0)\n",
    "x_coords_filtered = np.where(nonzero_indices, x_coords, np.nan)\n",
    "y_coords_filtered = np.where(nonzero_indices, y_coords, np.nan)"
   ]
  },
  {
   "cell_type": "code",
   "execution_count": 10,
   "metadata": {},
   "outputs": [],
   "source": [
    "import cv2\n",
    "\n",
    "prev_labels, num_labels = cv2.connectedComponents((last[1]>0).astype(np.uint8))"
   ]
  },
  {
   "cell_type": "code",
   "execution_count": 14,
   "metadata": {},
   "outputs": [
    {
     "data": {
      "text/plain": [
       "10"
      ]
     },
     "execution_count": 14,
     "metadata": {},
     "output_type": "execute_result"
    }
   ],
   "source": [
    "max(np.unique(last[1]))"
   ]
  },
  {
   "cell_type": "code",
   "execution_count": 11,
   "metadata": {},
   "outputs": [
    {
     "data": {
      "text/plain": [
       "8"
      ]
     },
     "execution_count": 11,
     "metadata": {},
     "output_type": "execute_result"
    }
   ],
   "source": [
    "prev_labels"
   ]
  },
  {
   "cell_type": "code",
   "execution_count": 18,
   "metadata": {},
   "outputs": [
    {
     "data": {
      "text/plain": [
       "array([ 0,  2,  3,  5,  6,  8,  9, 10])"
      ]
     },
     "execution_count": 18,
     "metadata": {},
     "output_type": "execute_result"
    }
   ],
   "source": [
    "np.unique(last[1])"
   ]
  },
  {
   "cell_type": "code",
   "execution_count": 17,
   "metadata": {},
   "outputs": [
    {
     "data": {
      "text/plain": [
       "<matplotlib.image.AxesImage at 0x7fdb1d09cb50>"
      ]
     },
     "execution_count": 17,
     "metadata": {},
     "output_type": "execute_result"
    },
    {
     "data": {
      "image/png": "[encoded data removed]",
      "text/plain": [
       "<Figure size 640x480 with 1 Axes>"
      ]
     },
     "metadata": {},
     "output_type": "display_data"
    }
   ],
   "source": [
    "plt.imshow(last[1])"
   ]
  },
  {
   "cell_type": "code",
   "execution_count": 16,
   "metadata": {},
   "outputs": [
    {
     "data": {
      "text/plain": [
       "<matplotlib.image.AxesImage at 0x7fdb1d1e5870>"
      ]
     },
     "execution_count": 16,
     "metadata": {},
     "output_type": "execute_result"
    },
    {
     "data": {
      "image/png": "[encoded data removed]",
      "text/plain": [
       "<Figure size 640x480 with 1 Axes>"
      ]
     },
     "metadata": {},
     "output_type": "display_data"
    }
   ],
   "source": [
    "plt.imshow(num_labels)"
   ]
  },
  {
   "cell_type": "code",
   "execution_count": null,
   "metadata": {},
   "outputs": [],
   "source": [
    "import cv2\n",
    "import numpy as np\n",
    "\n",
    "def separate_touching_cells(prev_mask, current_mask):\n",
    "    # Compare binary masks of consecutive frames\n",
    "    touching_pixels = np.logical_and(current_mask, prev_mask)\n",
    "    \n",
    "    # Label connected components in previous frame\n",
    "    prev_labels, num_labels = cv2.connectedComponents(prev_mask.astype(np.uint8))\n",
    "    \n",
    "    # Create a new mask for the current frame\n",
    "    separated_mask = np.zeros_like(current_mask)\n",
    "    \n",
    "    # Iterate through the touching pixels and assign labels based on proximity in the previous frame\n",
    "    for label in range(1, num_labels):\n",
    "        # Find the coordinates of the touching pixels for the current label\n",
    "        touching_coords = np.where(touching_pixels & (prev_labels == label))\n",
    "        \n",
    "        if touching_coords[0].size > 0:\n",
    "            # Find the centroid of the touching pixels\n",
    "            centroid = (int(np.mean(touching_coords[1])), int(np.mean(touching_coords[0])))\n",
    "            \n",
    "            # Assign a new label to the separated cell in the current frame\n",
    "            separated_mask[centroid[1], centroid[0]] = 1\n",
    "    \n",
    "    return separated_mask\n",
    "\n",
    "# Example usage\n",
    "# prev_frame: binary mask of the previous frame\n",
    "# current_frame: binary mask of the current frame\n",
    "separated_cells = separate_touching_cells(prev_frame, current_frame)\n"
   ]
  },
  {
   "cell_type": "code",
   "execution_count": 31,
   "metadata": {},
   "outputs": [
    {
     "data": {
      "text/plain": [
       "<matplotlib.image.AxesImage at 0x7fdb1c638430>"
      ]
     },
     "execution_count": 31,
     "metadata": {},
     "output_type": "execute_result"
    },
    {
     "data": {
      "image/png": "[encoded data removed]",
      "text/plain": [
       "<Figure size 640x480 with 1 Axes>"
      ]
     },
     "metadata": {},
     "output_type": "display_data"
    }
   ],
   "source": [
    "pr_mask = last[0] * (last[0] == 9)\n",
    "plt.imshow(pr_mask)"
   ]
  },
  {
   "cell_type": "code",
   "execution_count": 32,
   "metadata": {},
   "outputs": [
    {
     "data": {
      "text/plain": [
       "<matplotlib.image.AxesImage at 0x7fdb1c4b4400>"
      ]
     },
     "execution_count": 32,
     "metadata": {},
     "output_type": "execute_result"
    },
    {
     "data": {
      "image/png": "[encoded data removed]",
      "text/plain": [
       "<Figure size 640x480 with 1 Axes>"
      ]
     },
     "metadata": {},
     "output_type": "display_data"
    }
   ],
   "source": [
    "cr_mask = last[1] * (last[1] == 10)\n",
    "plt.imshow(cr_mask)"
   ]
  },
  {
   "cell_type": "code",
   "execution_count": 34,
   "metadata": {},
   "outputs": [
    {
     "data": {
      "text/plain": [
       "<matplotlib.image.AxesImage at 0x7fdb14f752a0>"
      ]
     },
     "execution_count": 34,
     "metadata": {},
     "output_type": "execute_result"
    },
    {
     "data": {
      "image/png": "[encoded data removed]",
      "text/plain": [
       "<Figure size 640x480 with 1 Axes>"
      ]
     },
     "metadata": {},
     "output_type": "display_data"
    }
   ],
   "source": [
    "touching_pixels = np.logical_and(cr_mask, (pr_mask))\n",
    "plt.imshow(touching_pixels)"
   ]
  }
 ],
 "metadata": {
  "kernelspec": {
   "display_name": "stage-lucas",
   "language": "python",
   "name": "python3"
  },
  "language_info": {
   "codemirror_mode": {
    "name": "ipython",
    "version": 3
   },
   "file_extension": ".py",
   "mimetype": "text/x-python",
   "name": "python",
   "nbconvert_exporter": "python",
   "pygments_lexer": "ipython3",
   "version": "3.10.6"
  },
  "orig_nbformat": 4
 },
 "nbformat": 4,
 "nbformat_minor": 2
}
